{
 "cells": [
  {
   "cell_type": "code",
   "execution_count": 6,
   "metadata": {},
   "outputs": [
    {
     "name": "stdout",
     "output_type": "stream",
     "text": [
      "honglang da\n",
      "o----\n",
      " ||||\n",
      "***************\n"
     ]
    }
   ],
   "source": [
    "print(\"honglang da\")\n",
    "print('o----')\n",
    "print(' ||||')\n",
    "print('*' * 15)"
   ]
  },
  {
   "cell_type": "code",
   "execution_count": 1,
   "metadata": {},
   "outputs": [
    {
     "name": "stdout",
     "output_type": "stream",
     "text": [
      "20\n",
      "False\n"
     ]
    }
   ],
   "source": [
    "price = 10\n",
    "price = 20\n",
    "rating = 4.9\n",
    "name = 'honglang'\n",
    "is_published = False\n",
    "print(price)\n",
    "print(is_published)"
   ]
  },
  {
   "cell_type": "code",
   "execution_count": 2,
   "metadata": {},
   "outputs": [
    {
     "name": "stdout",
     "output_type": "stream",
     "text": [
      "Hi 67\n",
      "67 likes yy\n"
     ]
    }
   ],
   "source": [
    "## input String\n",
    "name = input(\"What is your name? \")\n",
    "print('Hi ' + name)\n",
    "color = input(\"What is your favorite color? \")\n",
    "print(name + ' likes ' + color)\n"
   ]
  },
  {
   "cell_type": "code",
   "execution_count": 3,
   "metadata": {},
   "outputs": [
    {
     "name": "stdout",
     "output_type": "stream",
     "text": [
      "<class 'str'>\n",
      "1941\n"
     ]
    }
   ],
   "source": [
    "## Type conversion\n",
    "birth_year = input('Birth year: ')\n",
    "print(type(birth_year))\n",
    "age = 2019 - int(birth_year)\n",
    "print(age)"
   ]
  },
  {
   "cell_type": "code",
   "execution_count": 34,
   "metadata": {},
   "outputs": [
    {
     "name": "stdout",
     "output_type": "stream",
     "text": [
      "Python's course for beginners\n",
      "Python for \"beginners\"\n",
      "\n",
      "Hi honglang,\n",
      "\n",
      "Here is our first email to you.\n",
      "\n",
      "Thank you,\n",
      "The support team\n",
      "\n",
      "\n",
      "P\n",
      "r\n",
      "Pyt\n",
      "hon's course for beginners\n",
      "Pyt\n",
      "Python's course for beginners\n",
      "Python's course for beginner\n"
     ]
    }
   ],
   "source": [
    "## String operations \n",
    "course = \"Python's course for beginners\"\n",
    "print(course)\n",
    "course2 = 'Python for \"beginners\"'\n",
    "print(course2)\n",
    "course3 = '''\n",
    "Hi honglang,\n",
    "\n",
    "Here is our first email to you.\n",
    "\n",
    "Thank you,\n",
    "The support team\n",
    "\n",
    "'''\n",
    "print(course3)\n",
    "\n",
    "print(course[0])\n",
    "print(course[-2])\n",
    "print(course[0:3])\n",
    "print(course[3:])\n",
    "print(course[:3])\n",
    "print(course[:])\n",
    "another = course[:]\n",
    "print(course[0:-1])\n",
    "\n",
    "\n"
   ]
  },
  {
   "cell_type": "code",
   "execution_count": 14,
   "metadata": {},
   "outputs": [
    {
     "name": "stdout",
     "output_type": "stream",
     "text": [
      "John [Smith] is a coder\n",
      "John [Smith] is a coder\n",
      "4 [Smith] is a coder\n"
     ]
    }
   ],
   "source": [
    "## Formatted Strings\n",
    "first = 'John'\n",
    "last = 'Smith'\n",
    "message = first + ' [' + last + '] is a coder'\n",
    "print(message)\n",
    "\n",
    "msg = f'{first} [{last}] is a coder'\n",
    "msg1 = f\"{len(first)} [{last}] is a coder\"\n",
    "print(msg)\n",
    "print(msg1)"
   ]
  },
  {
   "cell_type": "code",
   "execution_count": 22,
   "metadata": {},
   "outputs": [
    {
     "name": "stdout",
     "output_type": "stream",
     "text": [
      "20\n",
      "PYTHON FOR BEGINNERS\n",
      "Python for Beginners\n",
      "python for beginners\n",
      "Python For Beginners\n",
      "7\n",
      "-1\n",
      "Python for Absolute Beginners\n",
      "Python for Beginners\n",
      "True\n",
      "False\n"
     ]
    }
   ],
   "source": [
    "## len() , String Methods\n",
    "course = 'Python for Beginners'\n",
    "print(len(course)) # Function\n",
    "course.upper()    # Method\n",
    "print(course.upper())\n",
    "print(course)\n",
    "\n",
    "print(course.lower())\n",
    "print(course.title())\n",
    "print(course.find('f'))\n",
    "print(course.find('X'))\n",
    "print(course.replace('Beginners', 'Absolute Beginners'))\n",
    "print(course.replace('beginners', 'Absolute Beginners'))\n",
    "\n",
    "## in operator\n",
    "print('Python' in course)\n",
    "print('python' in course)"
   ]
  },
  {
   "cell_type": "code",
   "execution_count": 3,
   "metadata": {},
   "outputs": [
    {
     "name": "stdout",
     "output_type": "stream",
     "text": [
      "13\n",
      "7\n",
      "30\n",
      "3.3333333333333335\n",
      "3\n",
      "1\n",
      "1000\n",
      "13\n"
     ]
    }
   ],
   "source": [
    "# Arithmetic Operators\n",
    "print(10 + 3)\n",
    "print(10 - 3)\n",
    "print(10 * 3)\n",
    "print(10 / 3)\n",
    "print(10 // 3) # integer division\n",
    "print(10 % 3)  # remainder\n",
    "print(10 ** 3) # power\n",
    "\n",
    "x = 10\n",
    "x += 3\n",
    "print(x)"
   ]
  },
  {
   "cell_type": "code",
   "execution_count": 5,
   "metadata": {},
   "outputs": [
    {
     "name": "stdout",
     "output_type": "stream",
     "text": [
      "16.0\n"
     ]
    }
   ],
   "source": [
    "# operator precedence\n",
    "x = 10 + 3 * 2 ** 2 / 2\n",
    "print(x)"
   ]
  },
  {
   "cell_type": "code",
   "execution_count": 8,
   "metadata": {},
   "outputs": [
    {
     "name": "stdout",
     "output_type": "stream",
     "text": [
      "3\n",
      "3\n",
      "2.9\n"
     ]
    }
   ],
   "source": [
    "# Math Functions\n",
    "import math\n",
    "print(math.ceil(2.9))\n",
    "print(math.floor(2.9))\n",
    "x = 2.9\n",
    "print(round(x))\n",
    "print(abs(-2.9))"
   ]
  },
  {
   "cell_type": "code",
   "execution_count": 13,
   "metadata": {},
   "outputs": [
    {
     "name": "stdout",
     "output_type": "stream",
     "text": [
      "It's a cold day\n",
      "Wear warm clothes\n",
      "Enjoy your day\n"
     ]
    }
   ],
   "source": [
    "# if statements\n",
    "is_hot = False \n",
    "is_cold = True\n",
    "\n",
    "if is_hot:\n",
    "    print(\"It's a hot day\")\n",
    "    print(\"Drink plenty of water\")\n",
    "elif is_cold:\n",
    "    print(\"It's a cold day\")\n",
    "    print(\"Wear warm clothes\")\n",
    "else:\n",
    "    print(\"It's a lovely day\")\n",
    "\n",
    "print(\"Enjoy your day\")"
   ]
  },
  {
   "cell_type": "code",
   "execution_count": 17,
   "metadata": {},
   "outputs": [
    {
     "name": "stdout",
     "output_type": "stream",
     "text": [
      "Eligible for loan2\n",
      "Eligible for loan3\n"
     ]
    }
   ],
   "source": [
    "# Logical Operators\n",
    "has_high_income = True\n",
    "has_good_credit = False\n",
    "if has_high_income and has_good_credit:\n",
    "    print(\"Eligible for loan1\")\n",
    "if has_good_credit or has_high_income:\n",
    "    print(\"Eligible for loan2\")\n",
    "if has_high_income and not has_good_credit:\n",
    "    print(\"Eligible for loan3\")"
   ]
  },
  {
   "cell_type": "code",
   "execution_count": 19,
   "metadata": {},
   "outputs": [
    {
     "name": "stdout",
     "output_type": "stream",
     "text": [
      "It's a 30 degree day\n"
     ]
    }
   ],
   "source": [
    "# comparison operators\n",
    "temperature = 30\n",
    "\n",
    "if temperature > 30:\n",
    "    print(\"It's a hot day\")\n",
    "elif temperature == 30:\n",
    "    print(\"It's a 30 degree day\")\n",
    "else:\n",
    "    print(\"It's not a hot day\")\n",
    "    \n"
   ]
  },
  {
   "cell_type": "code",
   "execution_count": 21,
   "metadata": {},
   "outputs": [
    {
     "name": "stdout",
     "output_type": "stream",
     "text": [
      "Name looks good!\n"
     ]
    }
   ],
   "source": [
    "name = \"Dadada\"\n",
    "\n",
    "if len(name) < 3:\n",
    "    print(\"Name must be at least 3 characters\")\n",
    "elif len(name) > 50:\n",
    "    print(\"Name can be a maximum of 50 characters\")\n",
    "else:\n",
    "    print(\"Name looks good!\")"
   ]
  },
  {
   "cell_type": "code",
   "execution_count": 30,
   "metadata": {},
   "outputs": [
    {
     "name": "stdout",
     "output_type": "stream",
     "text": [
      "*\n",
      "**\n",
      "***\n",
      "****\n",
      "*****\n",
      "Done\n",
      "6\n",
      "Try again\n",
      "You won!\n"
     ]
    }
   ],
   "source": [
    "# While loops\n",
    "i = 1\n",
    "while i <= 5:\n",
    "    print(\"*\" * i)\n",
    "    i = i + 1\n",
    "print(\"Done\")\n",
    "print(i)\n",
    "\n",
    "# Guessing game\n",
    "secret_number = 9\n",
    "guess_count = 0\n",
    "guess_limit = 3\n",
    "while guess_count < guess_limit:\n",
    "    guess = int(input('Guess: '))\n",
    "    guess_count += 1\n",
    "    if guess == secret_number:\n",
    "        print(\"You won!\")\n",
    "        break\n",
    "    else:\n",
    "        print(\"Try again\")\n",
    "else:\n",
    "    print(\"Sorry, you failed!\")"
   ]
  },
  {
   "cell_type": "code",
   "execution_count": 33,
   "metadata": {},
   "outputs": [
    {
     "name": "stdout",
     "output_type": "stream",
     "text": [
      "start - to start the car\n",
      "stop - to stop the car\n",
      "quit - to exit\n",
      "start - to start the car\n",
      "stop - to stop the car\n",
      "quit - to exit\n",
      "Car started...Ready to go!\n",
      "Car is already started!\n",
      "Car is already started!\n",
      "Car stopped.\n",
      "Car is already stopped!\n",
      "Car is already stopped!\n",
      "Car started...Ready to go!\n",
      "Car stopped.\n",
      "Car is already stopped!\n",
      "Car is already stopped!\n",
      "Car started...Ready to go!\n",
      "Car stopped.\n",
      "Car is already stopped!\n",
      "Car started...Ready to go!\n",
      "Car is already started!\n",
      "Game over\n"
     ]
    }
   ],
   "source": [
    "# Car game\n",
    "car_status = \"\"\n",
    "while True:\n",
    "    command = input(\">\").lower()\n",
    "    if command == \"help\":\n",
    "        print(\"start - to start the car\")\n",
    "        print(\"stop - to stop the car\")\n",
    "        print(\"quit - to exit\")\n",
    "    elif command == \"start\":\n",
    "        if car_status == \"started\":\n",
    "            print(\"Car is already started!\")\n",
    "        else:\n",
    "            car_status = \"started\"\n",
    "            print(\"Car started...Ready to go!\")\n",
    "    elif command == \"stop\":\n",
    "        if car_status == \"stopped\":\n",
    "            print(\"Car is already stopped!\")\n",
    "        else:\n",
    "            car_status = \"stopped\"\n",
    "            print(\"Car stopped.\")\n",
    "    elif command == \"quit\":\n",
    "        print(\"Game over\")\n",
    "        break\n",
    "    else:\n",
    "        print(\"Sorry, I don't understand that...\")\n"
   ]
  },
  {
   "cell_type": "code",
   "execution_count": null,
   "metadata": {},
   "outputs": [],
   "source": []
  }
 ],
 "metadata": {
  "kernelspec": {
   "display_name": "untitled",
   "language": "python",
   "name": "python3"
  },
  "language_info": {
   "codemirror_mode": {
    "name": "ipython",
    "version": 3
   },
   "file_extension": ".py",
   "mimetype": "text/x-python",
   "name": "python",
   "nbconvert_exporter": "python",
   "pygments_lexer": "ipython3",
   "version": "3.10.6"
  },
  "orig_nbformat": 4,
  "vscode": {
   "interpreter": {
    "hash": "e10d78180d15c51bc9310edcef3ce065428833b280891a811be2323416981e6d"
   }
  }
 },
 "nbformat": 4,
 "nbformat_minor": 2
}
