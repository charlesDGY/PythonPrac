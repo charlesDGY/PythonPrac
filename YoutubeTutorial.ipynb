{
 "cells": [
  {
   "cell_type": "code",
   "execution_count": 1,
   "metadata": {},
   "outputs": [
    {
     "name": "stdout",
     "output_type": "stream",
     "text": [
      "honglang da\n",
      "o----\n",
      " ||||\n",
      "***************\n"
     ]
    }
   ],
   "source": [
    "print(\"honglang da\")\n",
    "print('o----')\n",
    "print(' ||||')\n",
    "print('*' * 15)"
   ]
  },
  {
   "cell_type": "code",
   "execution_count": 1,
   "metadata": {},
   "outputs": [
    {
     "name": "stdout",
     "output_type": "stream",
     "text": [
      "20\n",
      "False\n"
     ]
    }
   ],
   "source": [
    "price = 10\n",
    "price = 20\n",
    "rating = 4.9\n",
    "name = 'honglang'\n",
    "is_published = False\n",
    "print(price)\n",
    "print(is_published)"
   ]
  },
  {
   "cell_type": "code",
   "execution_count": 2,
   "metadata": {},
   "outputs": [
    {
     "name": "stdout",
     "output_type": "stream",
     "text": [
      "Hi gaoda\n",
      "gaoda likes green\n"
     ]
    }
   ],
   "source": [
    "## input String\n",
    "name = input(\"What is your name? \")\n",
    "print('Hi ' + name)\n",
    "color = input(\"What is your favorite color? \")\n",
    "print(name + ' likes ' + color)\n"
   ]
  },
  {
   "cell_type": "code",
   "execution_count": 1,
   "metadata": {},
   "outputs": [
    {
     "name": "stdout",
     "output_type": "stream",
     "text": [
      "<class 'str'>\n",
      "2006\n"
     ]
    }
   ],
   "source": [
    "## Type conversion\n",
    "birth_year = input('Birth year: ')\n",
    "print(type(birth_year))\n",
    "age = 2019 - int(birth_year)\n",
    "print(age)"
   ]
  },
  {
   "cell_type": "code",
   "execution_count": 34,
   "metadata": {},
   "outputs": [
    {
     "name": "stdout",
     "output_type": "stream",
     "text": [
      "Python's course for beginners\n",
      "Python for \"beginners\"\n",
      "\n",
      "Hi honglang,\n",
      "\n",
      "Here is our first email to you.\n",
      "\n",
      "Thank you,\n",
      "The support team\n",
      "\n",
      "\n",
      "P\n",
      "r\n",
      "Pyt\n",
      "hon's course for beginners\n",
      "Pyt\n",
      "Python's course for beginners\n",
      "Python's course for beginner\n"
     ]
    }
   ],
   "source": [
    "## String operations \n",
    "course = \"Python's course for beginners\"\n",
    "print(course)\n",
    "course2 = 'Python for \"beginners\"'\n",
    "print(course2)\n",
    "course3 = '''\n",
    "Hi honglang,\n",
    "\n",
    "Here is our first email to you.\n",
    "\n",
    "Thank you,\n",
    "The support team\n",
    "\n",
    "'''\n",
    "print(course3)\n",
    "\n",
    "print(course[0])\n",
    "print(course[-2])\n",
    "print(course[0:3])\n",
    "print(course[3:])\n",
    "print(course[:3])\n",
    "print(course[:])\n",
    "another = course[:]\n",
    "print(course[0:-1])\n",
    "\n",
    "\n"
   ]
  },
  {
   "cell_type": "code",
   "execution_count": 14,
   "metadata": {},
   "outputs": [
    {
     "name": "stdout",
     "output_type": "stream",
     "text": [
      "John [Smith] is a coder\n",
      "John [Smith] is a coder\n",
      "4 [Smith] is a coder\n"
     ]
    }
   ],
   "source": [
    "## Formatted Strings\n",
    "first = 'John'\n",
    "last = 'Smith'\n",
    "message = first + ' [' + last + '] is a coder'\n",
    "print(message)\n",
    "\n",
    "msg = f'{first} [{last}] is a coder'\n",
    "msg1 = f\"{len(first)} [{last}] is a coder\"\n",
    "print(msg)\n",
    "print(msg1)"
   ]
  },
  {
   "cell_type": "code",
   "execution_count": 22,
   "metadata": {},
   "outputs": [
    {
     "name": "stdout",
     "output_type": "stream",
     "text": [
      "20\n",
      "PYTHON FOR BEGINNERS\n",
      "Python for Beginners\n",
      "python for beginners\n",
      "Python For Beginners\n",
      "7\n",
      "-1\n",
      "Python for Absolute Beginners\n",
      "Python for Beginners\n",
      "True\n",
      "False\n"
     ]
    }
   ],
   "source": [
    "## len() , String Methods\n",
    "course = 'Python for Beginners'\n",
    "print(len(course)) # Function\n",
    "course.upper()    # Method\n",
    "print(course.upper())\n",
    "print(course)\n",
    "\n",
    "print(course.lower())\n",
    "print(course.title())\n",
    "print(course.find('f'))\n",
    "print(course.find('X'))\n",
    "print(course.replace('Beginners', 'Absolute Beginners'))\n",
    "print(course.replace('beginners', 'Absolute Beginners'))\n",
    "\n",
    "## in operator\n",
    "print('Python' in course)\n",
    "print('python' in course)"
   ]
  },
  {
   "cell_type": "code",
   "execution_count": 3,
   "metadata": {},
   "outputs": [
    {
     "name": "stdout",
     "output_type": "stream",
     "text": [
      "13\n",
      "7\n",
      "30\n",
      "3.3333333333333335\n",
      "3\n",
      "1\n",
      "1000\n",
      "13\n"
     ]
    }
   ],
   "source": [
    "# Arithmetic Operators\n",
    "print(10 + 3)\n",
    "print(10 - 3)\n",
    "print(10 * 3)\n",
    "print(10 / 3)\n",
    "print(10 // 3) # integer division\n",
    "print(10 % 3)  # remainder\n",
    "print(10 ** 3) # power\n",
    "\n",
    "x = 10\n",
    "x += 3\n",
    "print(x)"
   ]
  },
  {
   "cell_type": "code",
   "execution_count": 5,
   "metadata": {},
   "outputs": [
    {
     "name": "stdout",
     "output_type": "stream",
     "text": [
      "16.0\n"
     ]
    }
   ],
   "source": [
    "# operator precedence\n",
    "x = 10 + 3 * 2 ** 2 / 2\n",
    "print(x)"
   ]
  },
  {
   "cell_type": "code",
   "execution_count": 1,
   "metadata": {},
   "outputs": [
    {
     "name": "stdout",
     "output_type": "stream",
     "text": [
      "3\n",
      "2\n",
      "3\n",
      "2.9\n"
     ]
    }
   ],
   "source": [
    "# Math Functions\n",
    "import math\n",
    "print(math.ceil(2.9))\n",
    "print(math.floor(2.9))\n",
    "x = 2.9\n",
    "print(round(x))\n",
    "print(abs(-2.9))"
   ]
  },
  {
   "cell_type": "code",
   "execution_count": 2,
   "metadata": {},
   "outputs": [
    {
     "name": "stdout",
     "output_type": "stream",
     "text": [
      "It's a cold day\n",
      "Wear warm clothes\n",
      "Enjoy your day\n"
     ]
    }
   ],
   "source": [
    "# if statements\n",
    "is_hot = False \n",
    "is_cold = True\n",
    "\n",
    "if is_hot:\n",
    "    print(\"It's a hot day\")\n",
    "    print(\"Drink plenty of water\")\n",
    "elif is_cold:\n",
    "    print(\"It's a cold day\")\n",
    "    print(\"Wear warm clothes\")\n",
    "else:\n",
    "    print(\"It's a lovely day\")\n",
    "\n",
    "print(\"Enjoy your day\")"
   ]
  },
  {
   "cell_type": "code",
   "execution_count": 3,
   "metadata": {},
   "outputs": [
    {
     "name": "stdout",
     "output_type": "stream",
     "text": [
      "Eligible for loan2\n",
      "Eligible for loan3\n"
     ]
    }
   ],
   "source": [
    "# Logical Operators\n",
    "has_high_income = True\n",
    "has_good_credit = False\n",
    "if has_high_income and has_good_credit:\n",
    "    print(\"Eligible for loan1\")\n",
    "if has_good_credit or has_high_income:\n",
    "    print(\"Eligible for loan2\")\n",
    "if has_high_income and not has_good_credit:\n",
    "    print(\"Eligible for loan3\")"
   ]
  },
  {
   "cell_type": "code",
   "execution_count": 5,
   "metadata": {},
   "outputs": [
    {
     "name": "stdout",
     "output_type": "stream",
     "text": [
      "It's a 30 degree day\n"
     ]
    }
   ],
   "source": [
    "# comparison operators\n",
    "temperature = 30\n",
    "\n",
    "if temperature > 30:\n",
    "    print(\"It's a hot day\")\n",
    "elif temperature == 30:\n",
    "    print(\"It's a 30 degree day\")\n",
    "else:\n",
    "    print(\"It's not a hot day\")\n",
    "    \n"
   ]
  },
  {
   "cell_type": "code",
   "execution_count": 6,
   "metadata": {},
   "outputs": [
    {
     "name": "stdout",
     "output_type": "stream",
     "text": [
      "Name looks good!\n"
     ]
    }
   ],
   "source": [
    "name = \"Dadada\"\n",
    "\n",
    "if len(name) < 3:\n",
    "    print(\"Name must be at least 3 characters\")\n",
    "elif len(name) > 50:\n",
    "    print(\"Name can be a maximum of 50 characters\")\n",
    "else:\n",
    "    print(\"Name looks good!\")"
   ]
  },
  {
   "cell_type": "code",
   "execution_count": 7,
   "metadata": {},
   "outputs": [
    {
     "name": "stdout",
     "output_type": "stream",
     "text": [
      "*\n",
      "**\n",
      "***\n",
      "****\n",
      "*****\n",
      "Done\n",
      "6\n",
      "Try again\n",
      "Try again\n",
      "Try again\n",
      "Sorry, you failed!\n"
     ]
    }
   ],
   "source": [
    "# While loops\n",
    "i = 1\n",
    "while i <= 5:\n",
    "    print(\"*\" * i)\n",
    "    i = i + 1\n",
    "print(\"Done\")\n",
    "print(i)\n",
    "\n",
    "# Guessing game\n",
    "secret_number = 9\n",
    "guess_count = 0\n",
    "guess_limit = 3\n",
    "while guess_count < guess_limit:\n",
    "    guess = int(input('Guess: '))\n",
    "    guess_count += 1\n",
    "    if guess == secret_number:\n",
    "        print(\"You won!\")\n",
    "        break\n",
    "    else:\n",
    "        print(\"Try again\")\n",
    "else:\n",
    "    print(\"Sorry, you failed!\")"
   ]
  },
  {
   "cell_type": "code",
   "execution_count": 8,
   "metadata": {},
   "outputs": [
    {
     "name": "stdout",
     "output_type": "stream",
     "text": [
      "Sorry, I don't understand that...\n",
      "start - to start the car\n",
      "stop - to stop the car\n",
      "quit - to exit\n",
      "Car started...Ready to go!\n",
      "Car stopped.\n",
      "Car is already stopped!\n",
      "Car started...Ready to go!\n",
      "Car stopped.\n",
      "Game over\n"
     ]
    }
   ],
   "source": [
    "# Car game\n",
    "car_status = \"\"\n",
    "while True:\n",
    "    command = input(\">\").lower()\n",
    "    if command == \"help\":\n",
    "        print(\"start - to start the car\")\n",
    "        print(\"stop - to stop the car\")\n",
    "        print(\"quit - to exit\")\n",
    "    elif command == \"start\":\n",
    "        if car_status == \"started\":\n",
    "            print(\"Car is already started!\")\n",
    "        else:\n",
    "            car_status = \"started\"\n",
    "            print(\"Car started...Ready to go!\")\n",
    "    elif command == \"stop\":\n",
    "        if car_status == \"stopped\":\n",
    "            print(\"Car is already stopped!\")\n",
    "        else:\n",
    "            car_status = \"stopped\"\n",
    "            print(\"Car stopped.\")\n",
    "    elif command == \"quit\":\n",
    "        print(\"Game over\")\n",
    "        break\n",
    "    else:\n",
    "        print(\"Sorry, I don't understand that...\")\n"
   ]
  },
  {
   "cell_type": "code",
   "execution_count": 14,
   "metadata": {},
   "outputs": [
    {
     "name": "stdout",
     "output_type": "stream",
     "text": [
      "P\n",
      "y\n",
      "t\n",
      "h\n",
      "o\n",
      "n\n",
      "Mosh\n",
      "John\n",
      "Sarah\n",
      "1\n",
      "2\n",
      "3\n",
      "4\n",
      "0\n",
      "1\n",
      "2\n",
      "3\n",
      "4\n",
      "5\n",
      "6\n",
      "7\n",
      "8\n",
      "9\n",
      "5\n",
      "6\n",
      "7\n",
      "8\n",
      "9\n",
      "5\n",
      "7\n",
      "9\n"
     ]
    }
   ],
   "source": [
    "# for loops\n",
    "for item in 'Python':\n",
    "    print(item)\n",
    "for item in ['Mosh', 'John', 'Sarah']:\n",
    "    print(item)\n",
    "for item in [1, 2, 3, 4]:\n",
    "    print(item)\n",
    "for item in range(10):\n",
    "    print(item)\n",
    "for item in range(5, 10):\n",
    "    print(item)\n",
    "for item in range(5, 11, 2):\n",
    "    print(item)\n"
   ]
  },
  {
   "cell_type": "code",
   "execution_count": 4,
   "metadata": {},
   "outputs": [
    {
     "name": "stdout",
     "output_type": "stream",
     "text": [
      "(0, 0)\n",
      "(0, 1)\n",
      "(0, 2)\n",
      "(1, 0)\n",
      "(1, 1)\n",
      "(1, 2)\n",
      "(2, 0)\n",
      "(2, 1)\n",
      "(2, 2)\n",
      "(3, 0)\n",
      "(3, 1)\n",
      "(3, 2)\n"
     ]
    }
   ],
   "source": [
    "# nested loops\n",
    "for x in range(4):\n",
    "    for y in range(3):\n",
    "        print(f'({x}, {y})')\n",
    "        "
   ]
  },
  {
   "cell_type": "code",
   "execution_count": 5,
   "metadata": {},
   "outputs": [
    {
     "name": "stdout",
     "output_type": "stream",
     "text": [
      "xxxxx\n",
      "xx\n",
      "xxxxx\n",
      "xx\n",
      "xx\n"
     ]
    }
   ],
   "source": [
    "# exercise\n",
    "numbers = [5, 2, 5, 2, 2]\n",
    "for count in numbers:\n",
    "    print('x' * count)\n",
    "    "
   ]
  },
  {
   "cell_type": "code",
   "execution_count": 18,
   "metadata": {},
   "outputs": [
    {
     "name": "stdout",
     "output_type": "stream",
     "text": [
      "John\n",
      "Mary\n",
      "['Mosh', 'Sarah', 'Mary']\n",
      "['Mosh', 'Sarah']\n",
      "['John', 'Bob', 'Mosh', 'Sarah', 'Mary']\n",
      "10\n",
      "[1, 20, 3]\n",
      "20\n",
      "1\n",
      "20\n",
      "3\n",
      "4\n",
      "5\n",
      "6\n",
      "7\n",
      "8\n",
      "9\n"
     ]
    }
   ],
   "source": [
    "# Lists\n",
    "names = ['John', 'Bob', 'Mosh', 'Sarah', 'Mary']\n",
    "print(names[0])\n",
    "print(names[-1])\n",
    "print(names[2:])\n",
    "print(names[2:4])\n",
    "print(names)\n",
    "\n",
    "numbers = [3, 6, 2, 8, 4, 10, 5]\n",
    "max = numbers[0]\n",
    "for number in numbers:\n",
    "    if number > max:\n",
    "        max = number\n",
    "print(max)\n",
    "\n",
    "# 2D Lists\n",
    "matrix = [ \n",
    "    [1, 2, 3],\n",
    "    [4, 5, 6],\n",
    "    [7, 8, 9]\n",
    "]\n",
    "matrix[0][1] = 20\n",
    "print(matrix[0])\n",
    "print(matrix[0][1])\n",
    "for row in matrix:\n",
    "    for item in row:\n",
    "        print(item)"
   ]
  },
  {
   "cell_type": "code",
   "execution_count": 15,
   "metadata": {},
   "outputs": [
    {
     "name": "stdout",
     "output_type": "stream",
     "text": [
      "[5, 2, 1, 7, 4, 20]\n",
      "[10, 5, 2, 1, 7, 4, 20]\n",
      "[10, 2, 1, 7, 4, 20]\n",
      "[10, 2, 1, 7, 4]\n",
      "3\n",
      "0\n",
      "[1, 2, 4, 7, 10]\n",
      "[10, 7, 4, 2, 1]\n",
      "[10, 7, 4, 2, 1]\n",
      "False\n",
      "[]\n",
      "[10, 7, 4, 2, 1]\n"
     ]
    }
   ],
   "source": [
    "# List Methods\n",
    "numbers = [5, 2, 1, 7, 4]\n",
    "numbers.append(20)\n",
    "print(numbers)\n",
    "numbers.insert(0, 10)\n",
    "print(numbers)\n",
    "numbers.remove(5)\n",
    "print(numbers)\n",
    "numbers.pop()\n",
    "print(numbers)\n",
    "print(numbers.index(7))\n",
    "print(numbers.count(5))\n",
    "numbers.sort()\n",
    "print(numbers)\n",
    "numbers.reverse()\n",
    "print(numbers)\n",
    "numbers2 = numbers.copy()\n",
    "print(numbers2)\n",
    "\n",
    "print(50 in numbers)\n",
    "numbers.clear()\n",
    "print(numbers)\n",
    "print(numbers2)\n"
   ]
  },
  {
   "cell_type": "code",
   "execution_count": 27,
   "metadata": {},
   "outputs": [
    {
     "name": "stdout",
     "output_type": "stream",
     "text": [
      "[2, 4, 6, 3, 1]\n"
     ]
    }
   ],
   "source": [
    "# remove duplicates items in a list\n",
    "numbers = [2, 2, 4, 6, 3, 4, 6, 1]\n",
    "uniques = []\n",
    "for number in numbers:\n",
    "    if number not in uniques:\n",
    "        uniques.append(number)  \n",
    "print(uniques)"
   ]
  },
  {
   "cell_type": "code",
   "execution_count": 16,
   "metadata": {},
   "outputs": [
    {
     "name": "stdout",
     "output_type": "stream",
     "text": [
      "2\n"
     ]
    }
   ],
   "source": [
    "# tuples\n",
    "# tuples are immutable\n",
    "numbers = (1, 2, 3, 1)\n",
    "print(numbers.count(1))\n"
   ]
  },
  {
   "cell_type": "code",
   "execution_count": 30,
   "metadata": {},
   "outputs": [
    {
     "name": "stdout",
     "output_type": "stream",
     "text": [
      "6\n",
      "6\n"
     ]
    }
   ],
   "source": [
    "# unpacking\n",
    "coordinates = (1, 2, 3)\n",
    "x, y, z = coordinates #  x = coordinates[0], y = coordinates[1], z = coordinates[2]\n",
    "print(x * y * z)\n",
    "\n",
    "coordinates_list = [1, 2, 3]\n",
    "x, y, z = coordinates_list\n",
    "print(x * y * z)"
   ]
  },
  {
   "cell_type": "code",
   "execution_count": 40,
   "metadata": {},
   "outputs": [
    {
     "name": "stdout",
     "output_type": "stream",
     "text": [
      "{'name': 'Jack Chan', 'age': 30, 'is_verified': True, 'birthdate': '20 1 1990'}\n",
      "Jack Chan\n",
      "Jan 1 1980\n",
      "{'name': 'Jack Chan', 'age': 30, 'is_verified': True, 'birthdate': '20 1 1990'}\n"
     ]
    }
   ],
   "source": [
    "# dictionaries\n",
    "customer = {\n",
    "    'name': 'John Smith',\n",
    "    'age': 30,\n",
    "    'is_verified': True\n",
    "}\n",
    "customer['name'] = 'Jack Chan' # update value\n",
    "customer['birthdate'] = '20 1 1990' # add new key-value pair\n",
    "print(customer)\n",
    "print(customer.get('name'))\n",
    "print(customer.get('diedate', 'Jan 1 1980')) # if key does not exist, return default value\n",
    "print(customer)\n"
   ]
  },
  {
   "cell_type": "code",
   "execution_count": 47,
   "metadata": {},
   "outputs": [
    {
     "name": "stdout",
     "output_type": "stream",
     "text": [
      "['holy', 'shit', ':)']\n",
      "holy shit 😊 \n"
     ]
    }
   ],
   "source": [
    "# emoji converter\n",
    "message = input(\">\")\n",
    "words = message.split(' ')\n",
    "print(words)\n",
    "emojis = {\n",
    "    \":)\": \"😊\",\n",
    "    \":(\": \"😢\"\n",
    "}\n",
    "output = \"\"\n",
    "for word in words:\n",
    "    output += emojis.get(word, word) + \" \"\n",
    "print(output)"
   ]
  },
  {
   "cell_type": "code",
   "execution_count": 3,
   "metadata": {},
   "outputs": [
    {
     "name": "stdout",
     "output_type": "stream",
     "text": [
      "False\n",
      "[1, 2, 3, 4]\n",
      "False\n"
     ]
    }
   ],
   "source": [
    "# an example of shallow copy which might be confusing.\n",
    "a = [1,2,3,4];\n",
    "b = list(a);\n",
    "print(b is a);\n",
    "a.append(5);\n",
    "print(b);\n",
    "print(b is a);"
   ]
  },
  {
   "cell_type": "code",
   "execution_count": 102,
   "metadata": {},
   "outputs": [
    {
     "name": "stdout",
     "output_type": "stream",
     "text": [
      "Two Three One Four \n"
     ]
    }
   ],
   "source": [
    "# exercise\n",
    "phone = input(\"Phone: \")\n",
    "digits_mapping = {\n",
    "    \"1\": \"One\",\n",
    "    \"2\": \"Two\",\n",
    "    \"3\": \"Three\",\n",
    "    \"4\": \"Four\"\n",
    "}\n",
    "output = \"\"\n",
    "for ch in phone:\n",
    "    output += digits_mapping.get(ch, \"!\") + \" \"\n",
    "print(output)\n"
   ]
  },
  {
   "cell_type": "code",
   "execution_count": 10,
   "metadata": {},
   "outputs": [
    {
     "name": "stdout",
     "output_type": "stream",
     "text": [
      "Start\n",
      "Hi smith John there!\n",
      "Welcome aboard\n",
      "Hi Mary dai there!\n",
      "Welcome aboard\n",
      "Total: 50\n",
      "Shipping: 5\n",
      "Discount: 0.1\n",
      "Cost: 54.9\n",
      "Finish\n"
     ]
    }
   ],
   "source": [
    "#function\n",
    "def greet_user(first_name, last_name):\n",
    "    print(f\"Hi {first_name} {last_name} there!\")\n",
    "    print(\"Welcome aboard\")\n",
    "\n",
    "\n",
    "print(\"Start\")\n",
    "greet_user(last_name=\"John\", first_name=\"smith\")\n",
    "greet_user(\"Mary\", \"dai\")\n",
    "\n",
    "\n",
    "def calc_cost(total, shipping, discount):\n",
    "    print(f\"Total: {total}\")\n",
    "    print(f\"Shipping: {shipping}\")\n",
    "    print(f\"Discount: {discount}\")\n",
    "    print(f\"Cost: {total + shipping - discount}\")   \n",
    "\n",
    "\n",
    "calc_cost(total = 50, shipping = 5, discount = 0.1)\n",
    "print(\"Finish\")"
   ]
  },
  {
   "cell_type": "code",
   "execution_count": 13,
   "metadata": {},
   "outputs": [
    {
     "name": "stdout",
     "output_type": "stream",
     "text": [
      "9\n",
      "None\n"
     ]
    }
   ],
   "source": [
    "# return statement\n",
    "def square(number):\n",
    "    return number * number\n",
    "\n",
    "def square2():\n",
    "    {}\n",
    "\n",
    "print(square(3))\n",
    "print(square2())"
   ]
  },
  {
   "cell_type": "code",
   "execution_count": 23,
   "metadata": {},
   "outputs": [
    {
     "name": "stdout",
     "output_type": "stream",
     "text": [
      "Age can not be 0\n"
     ]
    }
   ],
   "source": [
    "# exception handling\n",
    "try:\n",
    "    age = int(input(\"Age: \"))\n",
    "    income = 20000\n",
    "    risk = income / age\n",
    "    print(age)\n",
    "except ZeroDivisionError:\n",
    "    print(\"Age can not be 0\")\n",
    "except ValueError:\n",
    "    print(\"hahah Invalid value\")  \n"
   ]
  },
  {
   "cell_type": "code",
   "execution_count": null,
   "metadata": {},
   "outputs": [],
   "source": [
    "# comments\n",
    "\n",
    "# this is a comment, explain why and how, less what.\n",
    "print(\"Sky is blue\")"
   ]
  },
  {
   "cell_type": "code",
   "execution_count": 26,
   "metadata": {},
   "outputs": [
    {
     "name": "stdout",
     "output_type": "stream",
     "text": [
      "10\n",
      "draw\n",
      "AttributeError\n"
     ]
    }
   ],
   "source": [
    "# classes\n",
    "class Point:\n",
    "    def move(self):\n",
    "        print(\"move\")\n",
    "    def draw(self):\n",
    "        print(\"draw\")\n",
    "\n",
    "\n",
    "# create an object of the class\n",
    "point1 = Point()\n",
    "# attributes can be set anywhere after the definition of the class\n",
    "point1.x = 10\n",
    "point1.y = 20\n",
    "print(point1.x)\n",
    "point1.draw()\n",
    "\n",
    "point2 = Point()\n",
    "# each instance of a class has its own attributes\n",
    "try:\n",
    "    print(point2.x)\n",
    "except AttributeError:\n",
    "    print(\"AttributeError\")"
   ]
  },
  {
   "cell_type": "code",
   "execution_count": 27,
   "metadata": {},
   "outputs": [
    {
     "name": "stdout",
     "output_type": "stream",
     "text": [
      "10\n"
     ]
    }
   ],
   "source": [
    "# constructors\n",
    "class Point2:\n",
    "# self is a reference to the current object\n",
    "    def __init__(self, x, y):\n",
    "        self.x = x\n",
    "        self.y = y\n",
    "    def move(self):\n",
    "        print(\"move\")\n",
    "    def draw(self):\n",
    "        print(\"draw\")\n",
    "        \n",
    "\n",
    "point2 = Point2(10, 20)\n",
    "point2.x = 11\n",
    "print(point2.x)"
   ]
  },
  {
   "cell_type": "code",
   "execution_count": 30,
   "metadata": {},
   "outputs": [
    {
     "name": "stdout",
     "output_type": "stream",
     "text": [
      "Hi, I am John Smith\n",
      "Hi, I am Bob hh\n"
     ]
    }
   ],
   "source": [
    "# exercise\n",
    "class Person:\n",
    "    def __init__(self, name):\n",
    "        self.name = name\n",
    "    def talk(self):\n",
    "        print(f\"Hi, I am {self.name}\")\n",
    "\n",
    "\n",
    "john = Person(\"John Smith\")\n",
    "john.talk()\n",
    "    \n",
    "bob = Person(\"Bob hh\")\n",
    "bob.talk()"
   ]
  },
  {
   "cell_type": "code",
   "execution_count": 32,
   "metadata": {},
   "outputs": [
    {
     "name": "stdout",
     "output_type": "stream",
     "text": [
      "bark\n",
      "miao\n"
     ]
    }
   ],
   "source": [
    "# inheritance\n",
    "class Mammal:\n",
    "    def walk(self):\n",
    "        print(\"walk\")\n",
    "\n",
    "\n",
    "class Dog(Mammal):\n",
    "    def bark(self):\n",
    "        print(\"bark\")\n",
    "\n",
    "\n",
    "class Cat(Mammal):\n",
    "    def miao(self):\n",
    "        print(\"miao\")\n",
    "\n",
    "\n",
    "dog1 = Dog()\n",
    "dog1.bark()\n",
    "\n",
    "cat1 = Cat()\n",
    "cat1.miao()\n"
   ]
  },
  {
   "cell_type": "code",
   "execution_count": 21,
   "metadata": {},
   "outputs": [
    {
     "name": "stdout",
     "output_type": "stream",
     "text": [
      "Vehicle started\n",
      "This is a Blue Ferrari 488 Spider\n",
      "Engine Started\n",
      "1000HP\n",
      "[<class '__main__.ElectricCar'>, <class '__main__.Car'>, <class '__main__.Engine'>, <class '__main__.Vehicle'>, <class 'object'>]\n",
      "Car started\n"
     ]
    }
   ],
   "source": [
    "# more on inheritance\n",
    "class Vehicle:\n",
    "    def __init__(self, color, brand):\n",
    "        self.color = color\n",
    "        self.brand = brand\n",
    "\n",
    "    def start(self):\n",
    "        print(\"Vehicle started\")\n",
    "\n",
    "    def stop(self):\n",
    "        print(\"Vehicle stopped\")\n",
    "\n",
    "\n",
    "class Car(Vehicle):\n",
    "    def __init__(self, color, brand, model):\n",
    "# super() function is used to call the parent(or the next element in MRO order list. Sometimes in multiple inheritance, not the declared parent class even)'s constructor or methods, can not be used to access attributes.\n",
    "        super().__init__(color, brand)\n",
    "        self.model = model\n",
    "        super().start()\n",
    "\n",
    "    def start(self):\n",
    "        print(\"Car started\")\n",
    "\n",
    "    def display(self):\n",
    "        print(f\"This is a {self.color} {self.brand} {self.model}\")\n",
    "\n",
    "\n",
    "my_sportscar = Car(\"Blue\", \"Ferrari\", \"488 Spider\")\n",
    "my_sportscar.display()  # Output: This is a Blue Ferrari 488 Spider\n",
    "\n",
    "\n",
    "class Engine(Vehicle):\n",
    "    def set_power(self, power):\n",
    "        self.power = power\n",
    "\n",
    "    def start(self):\n",
    "        print(\"Engine Started\")\n",
    "\n",
    "# inheritance from multiple classes\n",
    "class ElectricCar(Car, Engine):\n",
    "    pass\n",
    "\n",
    "\n",
    "tesla = ElectricCar(\"White\", \"Tesla\", \"Model S\")\n",
    "tesla.set_power(\"1000HP\")\n",
    "print(tesla.power)  # Output: 1000HP\n",
    "\n",
    "# method resolution order in multiple inheritance\n",
    "print(ElectricCar.mro())\n",
    "tesla.start()\n",
    "\n"
   ]
  },
  {
   "cell_type": "code",
   "execution_count": 16,
   "metadata": {},
   "outputs": [
    {
     "name": "stdout",
     "output_type": "stream",
     "text": [
      "Public\n",
      "Protected\n",
      "Private\n"
     ]
    }
   ],
   "source": [
    "# even more on inheritance: private, protected, public\n",
    "class MyClass:\n",
    "    def __init__(self):\n",
    "        self.public_attribute = \"Public\"\n",
    "        self._protected_attribute = \"Protected\"\n",
    "        self.__private_attribute = \"Private\"\n",
    "\n",
    "obj = MyClass()\n",
    "print(obj.public_attribute)      # 输出: Public\n",
    "print(obj._protected_attribute)  # 输出: Protected\n",
    "print(obj._MyClass__private_attribute)  # 输出: Private\n"
   ]
  },
  {
   "cell_type": "code",
   "execution_count": null,
   "metadata": {},
   "outputs": [],
   "source": []
  },
  {
   "cell_type": "code",
   "execution_count": null,
   "metadata": {},
   "outputs": [],
   "source": []
  },
  {
   "cell_type": "code",
   "execution_count": null,
   "metadata": {},
   "outputs": [],
   "source": []
  },
  {
   "cell_type": "code",
   "execution_count": null,
   "metadata": {},
   "outputs": [],
   "source": []
  },
  {
   "cell_type": "code",
   "execution_count": null,
   "metadata": {},
   "outputs": [],
   "source": []
  },
  {
   "cell_type": "code",
   "execution_count": null,
   "metadata": {},
   "outputs": [],
   "source": []
  },
  {
   "cell_type": "code",
   "execution_count": null,
   "metadata": {},
   "outputs": [],
   "source": []
  },
  {
   "cell_type": "code",
   "execution_count": null,
   "metadata": {},
   "outputs": [],
   "source": []
  },
  {
   "cell_type": "code",
   "execution_count": null,
   "metadata": {},
   "outputs": [],
   "source": []
  },
  {
   "cell_type": "code",
   "execution_count": null,
   "metadata": {},
   "outputs": [],
   "source": []
  },
  {
   "cell_type": "code",
   "execution_count": null,
   "metadata": {},
   "outputs": [],
   "source": []
  },
  {
   "cell_type": "code",
   "execution_count": null,
   "metadata": {},
   "outputs": [],
   "source": []
  },
  {
   "cell_type": "code",
   "execution_count": null,
   "metadata": {},
   "outputs": [],
   "source": []
  },
  {
   "cell_type": "code",
   "execution_count": null,
   "metadata": {},
   "outputs": [],
   "source": []
  },
  {
   "cell_type": "code",
   "execution_count": null,
   "metadata": {},
   "outputs": [],
   "source": []
  },
  {
   "cell_type": "code",
   "execution_count": null,
   "metadata": {},
   "outputs": [],
   "source": []
  },
  {
   "cell_type": "code",
   "execution_count": null,
   "metadata": {},
   "outputs": [],
   "source": []
  },
  {
   "cell_type": "code",
   "execution_count": null,
   "metadata": {},
   "outputs": [],
   "source": []
  },
  {
   "cell_type": "code",
   "execution_count": null,
   "metadata": {},
   "outputs": [],
   "source": []
  },
  {
   "cell_type": "code",
   "execution_count": null,
   "metadata": {},
   "outputs": [],
   "source": []
  },
  {
   "cell_type": "code",
   "execution_count": null,
   "metadata": {},
   "outputs": [],
   "source": []
  },
  {
   "cell_type": "code",
   "execution_count": null,
   "metadata": {},
   "outputs": [],
   "source": []
  }
 ],
 "metadata": {
  "kernelspec": {
   "display_name": "untitled",
   "language": "python",
   "name": "python3"
  },
  "language_info": {
   "codemirror_mode": {
    "name": "ipython",
    "version": 3
   },
   "file_extension": ".py",
   "mimetype": "text/x-python",
   "name": "python",
   "nbconvert_exporter": "python",
   "pygments_lexer": "ipython3",
   "version": "3.9.13"
  },
  "orig_nbformat": 4,
  "vscode": {
   "interpreter": {
    "hash": "e10d78180d15c51bc9310edcef3ce065428833b280891a811be2323416981e6d"
   }
  }
 },
 "nbformat": 4,
 "nbformat_minor": 2
}
