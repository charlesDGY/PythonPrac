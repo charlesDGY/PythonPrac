{
 "cells": [
  {
   "cell_type": "code",
   "execution_count": 1,
   "metadata": {},
   "outputs": [
    {
     "name": "stdout",
     "output_type": "stream",
     "text": [
      "honglang da\n",
      "o----\n",
      " ||||\n",
      "***************\n"
     ]
    }
   ],
   "source": [
    "print(\"honglang da\")\n",
    "print('o----')\n",
    "print(' ||||')\n",
    "print('*' * 15)"
   ]
  },
  {
   "cell_type": "code",
   "execution_count": 2,
   "metadata": {},
   "outputs": [
    {
     "name": "stdout",
     "output_type": "stream",
     "text": [
      "20\n",
      "False\n"
     ]
    }
   ],
   "source": [
    "price = 10\n",
    "price = 20\n",
    "rating = 4.9\n",
    "name = 'honglang'\n",
    "is_published = False\n",
    "print(price)\n",
    "print(is_published)"
   ]
  },
  {
   "cell_type": "code",
   "execution_count": 2,
   "metadata": {},
   "outputs": [
    {
     "name": "stdout",
     "output_type": "stream",
     "text": [
      "Hi gaoda\n",
      "gaoda likes green\n"
     ]
    }
   ],
   "source": [
    "## input String\n",
    "name = input(\"What is your name? \")\n",
    "print('Hi ' + name)\n",
    "color = input(\"What is your favorite color? \")\n",
    "print(name + ' likes ' + color)\n"
   ]
  },
  {
   "cell_type": "code",
   "execution_count": 1,
   "metadata": {},
   "outputs": [
    {
     "name": "stdout",
     "output_type": "stream",
     "text": [
      "<class 'str'>\n",
      "2006\n"
     ]
    }
   ],
   "source": [
    "## Type conversion\n",
    "birth_year = input('Birth year: ')\n",
    "print(type(birth_year))\n",
    "age = 2019 - int(birth_year)\n",
    "print(age)"
   ]
  },
  {
   "cell_type": "code",
   "execution_count": 34,
   "metadata": {},
   "outputs": [
    {
     "name": "stdout",
     "output_type": "stream",
     "text": [
      "Python's course for beginners\n",
      "Python for \"beginners\"\n",
      "\n",
      "Hi honglang,\n",
      "\n",
      "Here is our first email to you.\n",
      "\n",
      "Thank you,\n",
      "The support team\n",
      "\n",
      "\n",
      "P\n",
      "r\n",
      "Pyt\n",
      "hon's course for beginners\n",
      "Pyt\n",
      "Python's course for beginners\n",
      "Python's course for beginner\n"
     ]
    }
   ],
   "source": [
    "## String operations \n",
    "course = \"Python's course for beginners\"\n",
    "print(course)\n",
    "course2 = 'Python for \"beginners\"'\n",
    "print(course2)\n",
    "course3 = '''\n",
    "Hi honglang,\n",
    "\n",
    "Here is our first email to you.\n",
    "\n",
    "Thank you,\n",
    "The support team\n",
    "\n",
    "'''\n",
    "print(course3)\n",
    "\n",
    "print(course[0])\n",
    "print(course[-2])\n",
    "print(course[0:3])\n",
    "print(course[3:])\n",
    "print(course[:3])\n",
    "print(course[:])\n",
    "another = course[:]\n",
    "print(course[0:-1])\n",
    "\n",
    "\n"
   ]
  },
  {
   "cell_type": "code",
   "execution_count": 14,
   "metadata": {},
   "outputs": [
    {
     "name": "stdout",
     "output_type": "stream",
     "text": [
      "John [Smith] is a coder\n",
      "John [Smith] is a coder\n",
      "4 [Smith] is a coder\n"
     ]
    }
   ],
   "source": [
    "## Formatted Strings\n",
    "first = 'John'\n",
    "last = 'Smith'\n",
    "message = first + ' [' + last + '] is a coder'\n",
    "print(message)\n",
    "\n",
    "msg = f'{first} [{last}] is a coder'\n",
    "msg1 = f\"{len(first)} [{last}] is a coder\"\n",
    "print(msg)\n",
    "print(msg1)"
   ]
  },
  {
   "cell_type": "code",
   "execution_count": 22,
   "metadata": {},
   "outputs": [
    {
     "name": "stdout",
     "output_type": "stream",
     "text": [
      "20\n",
      "PYTHON FOR BEGINNERS\n",
      "Python for Beginners\n",
      "python for beginners\n",
      "Python For Beginners\n",
      "7\n",
      "-1\n",
      "Python for Absolute Beginners\n",
      "Python for Beginners\n",
      "True\n",
      "False\n"
     ]
    }
   ],
   "source": [
    "## len() , String Methods\n",
    "course = 'Python for Beginners'\n",
    "print(len(course)) # Function\n",
    "course.upper()    # Method\n",
    "print(course.upper())\n",
    "print(course)\n",
    "\n",
    "print(course.lower())\n",
    "print(course.title())\n",
    "print(course.find('f'))\n",
    "print(course.find('X'))\n",
    "print(course.replace('Beginners', 'Absolute Beginners'))\n",
    "print(course.replace('beginners', 'Absolute Beginners'))\n",
    "\n",
    "## in operator\n",
    "print('Python' in course)\n",
    "print('python' in course)"
   ]
  },
  {
   "cell_type": "code",
   "execution_count": 3,
   "metadata": {},
   "outputs": [
    {
     "name": "stdout",
     "output_type": "stream",
     "text": [
      "13\n",
      "7\n",
      "30\n",
      "3.3333333333333335\n",
      "3\n",
      "1\n",
      "1000\n",
      "13\n"
     ]
    }
   ],
   "source": [
    "# Arithmetic Operators\n",
    "print(10 + 3)\n",
    "print(10 - 3)\n",
    "print(10 * 3)\n",
    "print(10 / 3)\n",
    "print(10 // 3) # integer division\n",
    "print(10 % 3)  # remainder\n",
    "print(10 ** 3) # power\n",
    "\n",
    "x = 10\n",
    "x += 3\n",
    "print(x)"
   ]
  },
  {
   "cell_type": "code",
   "execution_count": 5,
   "metadata": {},
   "outputs": [
    {
     "name": "stdout",
     "output_type": "stream",
     "text": [
      "16.0\n"
     ]
    }
   ],
   "source": [
    "# operator precedence\n",
    "x = 10 + 3 * 2 ** 2 / 2\n",
    "print(x)"
   ]
  },
  {
   "cell_type": "code",
   "execution_count": 1,
   "metadata": {},
   "outputs": [
    {
     "name": "stdout",
     "output_type": "stream",
     "text": [
      "3\n",
      "2\n",
      "3\n",
      "2.9\n"
     ]
    }
   ],
   "source": [
    "# Math Functions\n",
    "import math\n",
    "print(math.ceil(2.9))\n",
    "print(math.floor(2.9))\n",
    "x = 2.9\n",
    "print(round(x))\n",
    "print(abs(-2.9))"
   ]
  },
  {
   "cell_type": "code",
   "execution_count": 2,
   "metadata": {},
   "outputs": [
    {
     "name": "stdout",
     "output_type": "stream",
     "text": [
      "It's a cold day\n",
      "Wear warm clothes\n",
      "Enjoy your day\n"
     ]
    }
   ],
   "source": [
    "# if statements\n",
    "is_hot = False \n",
    "is_cold = True\n",
    "\n",
    "if is_hot:\n",
    "    print(\"It's a hot day\")\n",
    "    print(\"Drink plenty of water\")\n",
    "elif is_cold:\n",
    "    print(\"It's a cold day\")\n",
    "    print(\"Wear warm clothes\")\n",
    "else:\n",
    "    print(\"It's a lovely day\")\n",
    "\n",
    "print(\"Enjoy your day\")"
   ]
  },
  {
   "cell_type": "code",
   "execution_count": 3,
   "metadata": {},
   "outputs": [
    {
     "name": "stdout",
     "output_type": "stream",
     "text": [
      "Eligible for loan2\n",
      "Eligible for loan3\n"
     ]
    }
   ],
   "source": [
    "# Logical Operators\n",
    "has_high_income = True\n",
    "has_good_credit = False\n",
    "if has_high_income and has_good_credit:\n",
    "    print(\"Eligible for loan1\")\n",
    "if has_good_credit or has_high_income:\n",
    "    print(\"Eligible for loan2\")\n",
    "if has_high_income and not has_good_credit:\n",
    "    print(\"Eligible for loan3\")"
   ]
  },
  {
   "cell_type": "code",
   "execution_count": 5,
   "metadata": {},
   "outputs": [
    {
     "name": "stdout",
     "output_type": "stream",
     "text": [
      "It's a 30 degree day\n"
     ]
    }
   ],
   "source": [
    "# comparison operators\n",
    "temperature = 30\n",
    "\n",
    "if temperature > 30:\n",
    "    print(\"It's a hot day\")\n",
    "elif temperature == 30:\n",
    "    print(\"It's a 30 degree day\")\n",
    "else:\n",
    "    print(\"It's not a hot day\")\n",
    "    \n"
   ]
  },
  {
   "cell_type": "code",
   "execution_count": 6,
   "metadata": {},
   "outputs": [
    {
     "name": "stdout",
     "output_type": "stream",
     "text": [
      "Name looks good!\n"
     ]
    }
   ],
   "source": [
    "name = \"Dadada\"\n",
    "\n",
    "if len(name) < 3:\n",
    "    print(\"Name must be at least 3 characters\")\n",
    "elif len(name) > 50:\n",
    "    print(\"Name can be a maximum of 50 characters\")\n",
    "else:\n",
    "    print(\"Name looks good!\")"
   ]
  },
  {
   "cell_type": "code",
   "execution_count": 7,
   "metadata": {},
   "outputs": [
    {
     "name": "stdout",
     "output_type": "stream",
     "text": [
      "*\n",
      "**\n",
      "***\n",
      "****\n",
      "*****\n",
      "Done\n",
      "6\n",
      "Try again\n",
      "Try again\n",
      "Try again\n",
      "Sorry, you failed!\n"
     ]
    }
   ],
   "source": [
    "# While loops\n",
    "i = 1\n",
    "while i <= 5:\n",
    "    print(\"*\" * i)\n",
    "    i = i + 1\n",
    "print(\"Done\")\n",
    "print(i)\n",
    "\n",
    "# Guessing game\n",
    "secret_number = 9\n",
    "guess_count = 0\n",
    "guess_limit = 3\n",
    "while guess_count < guess_limit:\n",
    "    guess = int(input('Guess: '))\n",
    "    guess_count += 1\n",
    "    if guess == secret_number:\n",
    "        print(\"You won!\")\n",
    "        break\n",
    "    else:\n",
    "        print(\"Try again\")\n",
    "else:\n",
    "    print(\"Sorry, you failed!\")"
   ]
  },
  {
   "cell_type": "code",
   "execution_count": 8,
   "metadata": {},
   "outputs": [
    {
     "name": "stdout",
     "output_type": "stream",
     "text": [
      "Sorry, I don't understand that...\n",
      "start - to start the car\n",
      "stop - to stop the car\n",
      "quit - to exit\n",
      "Car started...Ready to go!\n",
      "Car stopped.\n",
      "Car is already stopped!\n",
      "Car started...Ready to go!\n",
      "Car stopped.\n",
      "Game over\n"
     ]
    }
   ],
   "source": [
    "# Car game\n",
    "car_status = \"\"\n",
    "while True:\n",
    "    command = input(\">\").lower()\n",
    "    if command == \"help\":\n",
    "        print(\"start - to start the car\")\n",
    "        print(\"stop - to stop the car\")\n",
    "        print(\"quit - to exit\")\n",
    "    elif command == \"start\":\n",
    "        if car_status == \"started\":\n",
    "            print(\"Car is already started!\")\n",
    "        else:\n",
    "            car_status = \"started\"\n",
    "            print(\"Car started...Ready to go!\")\n",
    "    elif command == \"stop\":\n",
    "        if car_status == \"stopped\":\n",
    "            print(\"Car is already stopped!\")\n",
    "        else:\n",
    "            car_status = \"stopped\"\n",
    "            print(\"Car stopped.\")\n",
    "    elif command == \"quit\":\n",
    "        print(\"Game over\")\n",
    "        break\n",
    "    else:\n",
    "        print(\"Sorry, I don't understand that...\")\n"
   ]
  },
  {
   "cell_type": "code",
   "execution_count": 14,
   "metadata": {},
   "outputs": [
    {
     "name": "stdout",
     "output_type": "stream",
     "text": [
      "P\n",
      "y\n",
      "t\n",
      "h\n",
      "o\n",
      "n\n",
      "Mosh\n",
      "John\n",
      "Sarah\n",
      "1\n",
      "2\n",
      "3\n",
      "4\n",
      "0\n",
      "1\n",
      "2\n",
      "3\n",
      "4\n",
      "5\n",
      "6\n",
      "7\n",
      "8\n",
      "9\n",
      "5\n",
      "6\n",
      "7\n",
      "8\n",
      "9\n",
      "5\n",
      "7\n",
      "9\n"
     ]
    }
   ],
   "source": [
    "# for loops\n",
    "for item in 'Python':\n",
    "    print(item)\n",
    "for item in ['Mosh', 'John', 'Sarah']:\n",
    "    print(item)\n",
    "for item in [1, 2, 3, 4]:\n",
    "    print(item)\n",
    "for item in range(10):\n",
    "    print(item)\n",
    "for item in range(5, 10):\n",
    "    print(item)\n",
    "for item in range(5, 11, 2):\n",
    "    print(item)\n"
   ]
  },
  {
   "cell_type": "code",
   "execution_count": 4,
   "metadata": {},
   "outputs": [
    {
     "name": "stdout",
     "output_type": "stream",
     "text": [
      "(0, 0)\n",
      "(0, 1)\n",
      "(0, 2)\n",
      "(1, 0)\n",
      "(1, 1)\n",
      "(1, 2)\n",
      "(2, 0)\n",
      "(2, 1)\n",
      "(2, 2)\n",
      "(3, 0)\n",
      "(3, 1)\n",
      "(3, 2)\n"
     ]
    }
   ],
   "source": [
    "# nested loops\n",
    "for x in range(4):\n",
    "    for y in range(3):\n",
    "        print(f'({x}, {y})')\n",
    "        "
   ]
  },
  {
   "cell_type": "code",
   "execution_count": 5,
   "metadata": {},
   "outputs": [
    {
     "name": "stdout",
     "output_type": "stream",
     "text": [
      "xxxxx\n",
      "xx\n",
      "xxxxx\n",
      "xx\n",
      "xx\n"
     ]
    }
   ],
   "source": [
    "# exercise\n",
    "numbers = [5, 2, 5, 2, 2]\n",
    "for count in numbers:\n",
    "    print('x' * count)\n",
    "    "
   ]
  },
  {
   "cell_type": "code",
   "execution_count": 18,
   "metadata": {},
   "outputs": [
    {
     "name": "stdout",
     "output_type": "stream",
     "text": [
      "John\n",
      "Mary\n",
      "['Mosh', 'Sarah', 'Mary']\n",
      "['Mosh', 'Sarah']\n",
      "['John', 'Bob', 'Mosh', 'Sarah', 'Mary']\n",
      "10\n",
      "[1, 20, 3]\n",
      "20\n",
      "1\n",
      "20\n",
      "3\n",
      "4\n",
      "5\n",
      "6\n",
      "7\n",
      "8\n",
      "9\n"
     ]
    }
   ],
   "source": [
    "# Lists\n",
    "names = ['John', 'Bob', 'Mosh', 'Sarah', 'Mary']\n",
    "print(names[0])\n",
    "print(names[-1])\n",
    "print(names[2:])\n",
    "print(names[2:4])\n",
    "print(names)\n",
    "\n",
    "numbers = [3, 6, 2, 8, 4, 10, 5]\n",
    "maxNumber = numbers[0]\n",
    "for number in numbers:\n",
    "    if number > maxNumber:\n",
    "        maxNumber = number\n",
    "print(maxNumber)\n",
    "\n",
    "# 2D Lists\n",
    "matrix = [ \n",
    "    [1, 2, 3],\n",
    "    [4, 5, 6],\n",
    "    [7, 8, 9]\n",
    "]\n",
    "matrix[0][1] = 20\n",
    "print(matrix[0])\n",
    "print(matrix[0][1])\n",
    "for row in matrix:\n",
    "    for item in row:\n",
    "        print(item)"
   ]
  },
  {
   "cell_type": "code",
   "execution_count": 15,
   "metadata": {},
   "outputs": [
    {
     "name": "stdout",
     "output_type": "stream",
     "text": [
      "[5, 2, 1, 7, 4, 20]\n",
      "[10, 5, 2, 1, 7, 4, 20]\n",
      "[10, 2, 1, 7, 4, 20]\n",
      "[10, 2, 1, 7, 4]\n",
      "3\n",
      "0\n",
      "[1, 2, 4, 7, 10]\n",
      "[10, 7, 4, 2, 1]\n",
      "[10, 7, 4, 2, 1]\n",
      "False\n",
      "[]\n",
      "[10, 7, 4, 2, 1]\n"
     ]
    }
   ],
   "source": [
    "# List Methods\n",
    "numbers = [5, 2, 1, 7, 4]\n",
    "numbers.append(20)\n",
    "print(numbers)\n",
    "numbers.insert(0, 10)\n",
    "print(numbers)\n",
    "numbers.remove(5)\n",
    "print(numbers)\n",
    "numbers.pop()\n",
    "print(numbers)\n",
    "print(numbers.index(7))\n",
    "print(numbers.count(5))\n",
    "numbers.sort()\n",
    "print(numbers)\n",
    "numbers.reverse()\n",
    "print(numbers)\n",
    "numbers2 = numbers.copy()\n",
    "print(numbers2)\n",
    "\n",
    "print(50 in numbers)\n",
    "numbers.clear()\n",
    "print(numbers)\n",
    "print(numbers2)\n"
   ]
  },
  {
   "cell_type": "code",
   "execution_count": 27,
   "metadata": {},
   "outputs": [
    {
     "name": "stdout",
     "output_type": "stream",
     "text": [
      "[2, 4, 6, 3, 1]\n"
     ]
    }
   ],
   "source": [
    "# remove duplicates items in a list\n",
    "numbers = [2, 2, 4, 6, 3, 4, 6, 1]\n",
    "uniques = []\n",
    "for number in numbers:\n",
    "    if number not in uniques:\n",
    "        uniques.append(number)  \n",
    "print(uniques)"
   ]
  },
  {
   "cell_type": "code",
   "execution_count": 16,
   "metadata": {},
   "outputs": [
    {
     "name": "stdout",
     "output_type": "stream",
     "text": [
      "2\n"
     ]
    }
   ],
   "source": [
    "# tuples\n",
    "# tuples are immutable\n",
    "numbers = (1, 2, 3, 1)\n",
    "print(numbers.count(1))\n"
   ]
  },
  {
   "cell_type": "code",
   "execution_count": 30,
   "metadata": {},
   "outputs": [
    {
     "name": "stdout",
     "output_type": "stream",
     "text": [
      "6\n",
      "6\n"
     ]
    }
   ],
   "source": [
    "# unpacking\n",
    "coordinates = (1, 2, 3)\n",
    "x, y, z = coordinates #  x = coordinates[0], y = coordinates[1], z = coordinates[2]\n",
    "print(x * y * z)\n",
    "\n",
    "coordinates_list = [1, 2, 3]\n",
    "x, y, z = coordinates_list\n",
    "print(x * y * z)"
   ]
  },
  {
   "cell_type": "code",
   "execution_count": 40,
   "metadata": {},
   "outputs": [
    {
     "name": "stdout",
     "output_type": "stream",
     "text": [
      "{'name': 'Jack Chan', 'age': 30, 'is_verified': True, 'birthdate': '20 1 1990'}\n",
      "Jack Chan\n",
      "Jan 1 1980\n",
      "{'name': 'Jack Chan', 'age': 30, 'is_verified': True, 'birthdate': '20 1 1990'}\n"
     ]
    }
   ],
   "source": [
    "# dictionaries\n",
    "customer = {\n",
    "    'name': 'John Smith',\n",
    "    'age': 30,\n",
    "    'is_verified': True\n",
    "}\n",
    "customer['name'] = 'Jack Chan' # update value\n",
    "customer['birthdate'] = '20 1 1990' # add new key-value pair\n",
    "print(customer)\n",
    "print(customer.get('name'))\n",
    "print(customer.get('diedate', 'Jan 1 1980')) # if key does not exist, return default value\n",
    "print(customer)\n"
   ]
  },
  {
   "cell_type": "code",
   "execution_count": 47,
   "metadata": {},
   "outputs": [
    {
     "name": "stdout",
     "output_type": "stream",
     "text": [
      "['holy', 'shit', ':)']\n",
      "holy shit 😊 \n"
     ]
    }
   ],
   "source": [
    "# emoji converter\n",
    "message = input(\">\")\n",
    "words = message.split(' ')\n",
    "print(words)\n",
    "emojis = {\n",
    "    \":)\": \"😊\",\n",
    "    \":(\": \"😢\"\n",
    "}\n",
    "output = \"\"\n",
    "for word in words:\n",
    "    output += emojis.get(word, word) + \" \"\n",
    "print(output)"
   ]
  },
  {
   "cell_type": "code",
   "execution_count": 3,
   "metadata": {},
   "outputs": [
    {
     "name": "stdout",
     "output_type": "stream",
     "text": [
      "False\n",
      "[1, 2, 3, 4]\n",
      "False\n"
     ]
    }
   ],
   "source": [
    "# an example of shallow copy which might be confusing.\n",
    "a = [1,2,3,4];\n",
    "b = list(a);\n",
    "print(b is a);\n",
    "a.append(5);\n",
    "print(b);\n",
    "print(b is a);"
   ]
  },
  {
   "cell_type": "code",
   "execution_count": 102,
   "metadata": {},
   "outputs": [
    {
     "name": "stdout",
     "output_type": "stream",
     "text": [
      "Two Three One Four \n"
     ]
    }
   ],
   "source": [
    "# exercise\n",
    "phone = input(\"Phone: \")\n",
    "digits_mapping = {\n",
    "    \"1\": \"One\",\n",
    "    \"2\": \"Two\",\n",
    "    \"3\": \"Three\",\n",
    "    \"4\": \"Four\"\n",
    "}\n",
    "output = \"\"\n",
    "for ch in phone:\n",
    "    output += digits_mapping.get(ch, \"!\") + \" \"\n",
    "print(output)\n"
   ]
  },
  {
   "cell_type": "code",
   "execution_count": 10,
   "metadata": {},
   "outputs": [
    {
     "name": "stdout",
     "output_type": "stream",
     "text": [
      "Start\n",
      "Hi smith John there!\n",
      "Welcome aboard\n",
      "Hi Mary dai there!\n",
      "Welcome aboard\n",
      "Total: 50\n",
      "Shipping: 5\n",
      "Discount: 0.1\n",
      "Cost: 54.9\n",
      "Finish\n"
     ]
    }
   ],
   "source": [
    "#function\n",
    "def greet_user(first_name, last_name):\n",
    "    print(f\"Hi {first_name} {last_name} there!\")\n",
    "    print(\"Welcome aboard\")\n",
    "\n",
    "\n",
    "print(\"Start\")\n",
    "greet_user(last_name=\"John\", first_name=\"smith\")\n",
    "greet_user(\"Mary\", \"dai\")\n",
    "\n",
    "\n",
    "def calc_cost(total, shipping, discount):\n",
    "    print(f\"Total: {total}\")\n",
    "    print(f\"Shipping: {shipping}\")\n",
    "    print(f\"Discount: {discount}\")\n",
    "    print(f\"Cost: {total + shipping - discount}\")   \n",
    "\n",
    "\n",
    "calc_cost(total = 50, shipping = 5, discount = 0.1)\n",
    "print(\"Finish\")"
   ]
  },
  {
   "cell_type": "code",
   "execution_count": 13,
   "metadata": {},
   "outputs": [
    {
     "name": "stdout",
     "output_type": "stream",
     "text": [
      "9\n",
      "None\n"
     ]
    }
   ],
   "source": [
    "# return statement\n",
    "def square(number):\n",
    "    return number * number\n",
    "\n",
    "def square2():\n",
    "    {}\n",
    "\n",
    "print(square(3))\n",
    "print(square2())"
   ]
  },
  {
   "cell_type": "code",
   "execution_count": 23,
   "metadata": {},
   "outputs": [
    {
     "name": "stdout",
     "output_type": "stream",
     "text": [
      "Age can not be 0\n"
     ]
    }
   ],
   "source": [
    "# exception handling\n",
    "try:\n",
    "    age = int(input(\"Age: \"))\n",
    "    income = 20000\n",
    "    risk = income / age\n",
    "    print(age)\n",
    "except ZeroDivisionError:\n",
    "    print(\"Age can not be 0\")\n",
    "except ValueError:\n",
    "    print(\"hahah Invalid value\")  \n"
   ]
  },
  {
   "cell_type": "code",
   "execution_count": null,
   "metadata": {},
   "outputs": [],
   "source": [
    "# comments\n",
    "\n",
    "# this is a comment, explain why and how, less what.\n",
    "print(\"Sky is blue\")"
   ]
  },
  {
   "cell_type": "code",
   "execution_count": 12,
   "metadata": {},
   "outputs": [
    {
     "name": "stdout",
     "output_type": "stream",
     "text": [
      "10\n",
      "draw\n",
      "AttributeError\n"
     ]
    }
   ],
   "source": [
    "# classes\n",
    "class Point:\n",
    "    def move(self):\n",
    "        print(\"move\")\n",
    "    def draw(self):\n",
    "        print(\"draw\")\n",
    "\n",
    "\n",
    "# create an object of the class\n",
    "point1 = Point()\n",
    "# attributes can be set anywhere after the definition of the class\n",
    "point1.x = 10\n",
    "point1.y = 20\n",
    "print(point1.x)\n",
    "point1.draw()\n",
    "\n",
    "point2 = Point()\n",
    "# each instance of a class has its own attributes\n",
    "try:\n",
    "    print(point2.x)\n",
    "except AttributeError:\n",
    "    print(\"AttributeError\")"
   ]
  },
  {
   "cell_type": "code",
   "execution_count": 27,
   "metadata": {},
   "outputs": [
    {
     "name": "stdout",
     "output_type": "stream",
     "text": [
      "10\n"
     ]
    }
   ],
   "source": [
    "# constructors\n",
    "class Point2:\n",
    "# self is a reference to the current object\n",
    "    def __init__(self, x, y):\n",
    "        self.x = x\n",
    "        self.y = y\n",
    "    def move(self):\n",
    "        print(\"move\")\n",
    "    def draw(self):\n",
    "        print(\"draw\")\n",
    "        \n",
    "\n",
    "point2 = Point2(10, 20)\n",
    "point2.x = 11\n",
    "print(point2.x)"
   ]
  },
  {
   "cell_type": "code",
   "execution_count": 30,
   "metadata": {},
   "outputs": [
    {
     "name": "stdout",
     "output_type": "stream",
     "text": [
      "Hi, I am John Smith\n",
      "Hi, I am Bob hh\n"
     ]
    }
   ],
   "source": [
    "# exercise\n",
    "class Person:\n",
    "    def __init__(self, name):\n",
    "        self.name = name\n",
    "    def talk(self):\n",
    "        print(f\"Hi, I am {self.name}\")\n",
    "\n",
    "\n",
    "john = Person(\"John Smith\")\n",
    "john.talk()\n",
    "    \n",
    "bob = Person(\"Bob hh\")\n",
    "bob.talk()"
   ]
  },
  {
   "cell_type": "code",
   "execution_count": 32,
   "metadata": {},
   "outputs": [
    {
     "name": "stdout",
     "output_type": "stream",
     "text": [
      "bark\n",
      "miao\n"
     ]
    }
   ],
   "source": [
    "# inheritance\n",
    "class Mammal:\n",
    "    def walk(self):\n",
    "        print(\"walk\")\n",
    "\n",
    "\n",
    "class Dog(Mammal):\n",
    "    def bark(self):\n",
    "        print(\"bark\")\n",
    "\n",
    "\n",
    "class Cat(Mammal):\n",
    "    def miao(self):\n",
    "        print(\"miao\")\n",
    "\n",
    "\n",
    "dog1 = Dog()\n",
    "dog1.bark()\n",
    "\n",
    "cat1 = Cat()\n",
    "cat1.miao()\n"
   ]
  },
  {
   "cell_type": "code",
   "execution_count": 11,
   "metadata": {},
   "outputs": [
    {
     "name": "stdout",
     "output_type": "stream",
     "text": [
      "Vehicle started\n",
      "This is a Blue Ferrari 488 Spider\n",
      "Engine Started\n",
      "1000HP\n",
      "[<class '__main__.ElectricCar'>, <class '__main__.Car'>, <class '__main__.Engine'>, <class '__main__.Vehicle'>, <class 'object'>]\n",
      "Car started\n"
     ]
    }
   ],
   "source": [
    "# more on inheritance\n",
    "class Vehicle:\n",
    "    def __init__(self, color, brand):\n",
    "        self.color = color\n",
    "        self.brand = brand\n",
    "\n",
    "    def start(self):\n",
    "        print(\"Vehicle started\")\n",
    "\n",
    "    def stop(self):\n",
    "        print(\"Vehicle stopped\")\n",
    "\n",
    "\n",
    "class Car(Vehicle):\n",
    "    def __init__(self, color, brand, model):\n",
    "# super() function is used to call the parent(or the next element in MRO order list. Sometimes in multiple inheritance, not the declared parent class even)'s constructor or methods, can not be used to access attributes.\n",
    "        super().__init__(color, brand)\n",
    "        self.model = model\n",
    "        super().start()\n",
    "\n",
    "    def start(self):\n",
    "        print(\"Car started\")\n",
    "\n",
    "    def display(self):\n",
    "        print(f\"This is a {self.color} {self.brand} {self.model}\")\n",
    "\n",
    "\n",
    "my_sportscar = Car(\"Blue\", \"Ferrari\", \"488 Spider\")\n",
    "my_sportscar.display()  # Output: This is a Blue Ferrari 488 Spider\n",
    "\n",
    "\n",
    "class Engine(Vehicle):\n",
    "    def set_power(self, power):\n",
    "        self.power = power\n",
    "\n",
    "    def start(self):\n",
    "        print(\"Engine Started\")\n",
    "\n",
    "# inheritance from multiple classes\n",
    "class ElectricCar(Car, Engine):\n",
    "    pass\n",
    "\n",
    "\n",
    "tesla = ElectricCar(\"White\", \"Tesla\", \"Model S\")\n",
    "tesla.set_power(\"1000HP\")\n",
    "print(tesla.power)  # Output: 1000HP\n",
    "\n",
    "# method resolution order in multiple inheritance\n",
    "print(ElectricCar.mro())\n",
    "tesla.start()\n",
    "\n"
   ]
  },
  {
   "cell_type": "code",
   "execution_count": 22,
   "metadata": {},
   "outputs": [
    {
     "name": "stdout",
     "output_type": "stream",
     "text": [
      "Public\n",
      "Protected\n",
      "Private\n"
     ]
    }
   ],
   "source": [
    "# even more on inheritance: private, protected, public\n",
    "class MyClass:\n",
    "    def __init__(self):\n",
    "        self.public_attribute = \"Public\"\n",
    "        self._protected_attribute = \"Protected\"\n",
    "        self.__private_attribute = \"Private\"\n",
    "\n",
    "obj = MyClass()\n",
    "print(obj.public_attribute)      # 输出: Public\n",
    "print(obj._protected_attribute)  # 输出: Protected\n",
    "print(obj._MyClass__private_attribute)  # 输出: Private\n"
   ]
  },
  {
   "cell_type": "code",
   "execution_count": 12,
   "metadata": {},
   "outputs": [
    {
     "name": "stdout",
     "output_type": "stream",
     "text": [
      "155.55555555555554\n"
     ]
    }
   ],
   "source": [
    "# modules\n",
    "import converters\n",
    "from converters import kg_to_lbs\n",
    "\n",
    "kg_to_lbs(100)\n",
    "\n",
    "print(converters.kg_to_lbs(70))\n"
   ]
  },
  {
   "cell_type": "code",
   "execution_count": 13,
   "metadata": {},
   "outputs": [
    {
     "name": "stdout",
     "output_type": "stream",
     "text": [
      "calc_shipping\n",
      "calc_shipping\n",
      "calc_shipping\n"
     ]
    }
   ],
   "source": [
    "#packages (folders with __init__.py)\n",
    "import apackage.shipping\n",
    "from apackage.shipping import calc_shipping\n",
    "from apackage import shipping\n",
    "\n",
    "apackage.shipping.calc_shipping()\n",
    "calc_shipping()\n",
    "shipping.calc_shipping()"
   ]
  },
  {
   "cell_type": "code",
   "execution_count": 10,
   "metadata": {},
   "outputs": [
    {
     "name": "stdout",
     "output_type": "stream",
     "text": [
      "0.17642042794918544\n",
      "11\n",
      "0.5572425371257809\n",
      "18\n",
      "0.002168754313106036\n",
      "14\n",
      "Mosh\n",
      "(4, 4)\n"
     ]
    }
   ],
   "source": [
    "# generating random values using built-in module\n",
    "import random\n",
    "for i in range(3):\n",
    "    print(random.random())\n",
    "    print(random.randint(10, 20))\n",
    "\n",
    "members = ['John', 'Mary', 'Bob', 'Mosh']\n",
    "leader = random.choice(members)\n",
    "print(leader)\n",
    "\n",
    "\n",
    "class Dice:\n",
    "    def roll(self):\n",
    "        first = random.randint(1, 6)\n",
    "        second = random.randint(1, 6)\n",
    "        return (first, second) # or return first, second\n",
    "\n",
    "\n",
    "dice1 = Dice()\n",
    "print(dice1.roll())\n"
   ]
  },
  {
   "cell_type": "code",
   "execution_count": 9,
   "metadata": {},
   "outputs": [
    {
     "name": "stdout",
     "output_type": "stream",
     "text": [
      "True\n",
      "apackage/__init__.py\n",
      "apackage/shipping.py\n",
      ".DS_Store\n",
      "LICENSE\n",
      "apackage\n",
      "transactions.xlsx\n",
      "transactions2.xlsx\n",
      "music-recommender.joblib\n",
      "PyShop\n",
      "test1.py\n",
      "vgsales.csv\n",
      "__pycache__\n",
      "README.md\n",
      "music.csv\n",
      ".gitignore\n",
      "YoutubeTutorial.ipynb\n",
      ".ipynb_checkpoints\n",
      "converters.py\n",
      ".git\n",
      ".vscode\n",
      "music-recommender.dot\n"
     ]
    }
   ],
   "source": [
    "# files and directories\n",
    "from pathlib import Path\n",
    "\n",
    "path = Path(\"apackage\")\n",
    "print(path.exists())\n",
    "for file in path.glob(\"*.py\"):\n",
    "    print(file) \n",
    "\n",
    "path2 = Path()\n",
    "for file in path2.glob(\"*\"):\n",
    "    print(file)"
   ]
  },
  {
   "cell_type": "code",
   "execution_count": 8,
   "metadata": {},
   "outputs": [
    {
     "name": "stdout",
     "output_type": "stream",
     "text": [
      "product_id\n"
     ]
    }
   ],
   "source": [
    "# working with excel spreadsheets\n",
    "import openpyxl as xl\n",
    "from openpyxl.chart import BarChart, Reference\n",
    "\n",
    "wb = xl.load_workbook(\"transactions.xlsx\")\n",
    "sheet = wb[\"Sheet1\"]\n",
    "cell = sheet[\"a1\"]\n",
    "cell = sheet.cell(1, 2)\n",
    "print(cell.value)\n",
    "\n",
    "for row in range(2, sheet.max_row + 1):\n",
    "    cell = sheet.cell(row, 3)\n",
    "    corrected_price = cell.value * 0.9\n",
    "    corrected_price_cell = sheet.cell(row, 4)\n",
    "    corrected_price_cell.value = corrected_price\n",
    "\n",
    "values = Reference(sheet, min_row=2, max_row=sheet.max_row, min_col=4, max_col=5)\n",
    "\n",
    "chart = BarChart()\n",
    "chart.add_data(values)\n",
    "sheet.add_chart(chart, \"f2\")\n",
    "\n",
    "wb.save('transactions2.xlsx')\n"
   ]
  },
  {
   "cell_type": "code",
   "execution_count": 18,
   "metadata": {},
   "outputs": [
    {
     "data": {
      "text/plain": [
       "(16598, 11)"
      ]
     },
     "execution_count": 18,
     "metadata": {},
     "output_type": "execute_result"
    }
   ],
   "source": [
    "# pandas\n",
    "import pandas as pd\n",
    "\n",
    "df = pd.read_csv(\"vgsales.csv\")\n",
    "df.shape\n"
   ]
  },
  {
   "cell_type": "code",
   "execution_count": 19,
   "metadata": {},
   "outputs": [
    {
     "data": {
      "text/html": [
       "<div>\n",
       "<style scoped>\n",
       "    .dataframe tbody tr th:only-of-type {\n",
       "        vertical-align: middle;\n",
       "    }\n",
       "\n",
       "    .dataframe tbody tr th {\n",
       "        vertical-align: top;\n",
       "    }\n",
       "\n",
       "    .dataframe thead th {\n",
       "        text-align: right;\n",
       "    }\n",
       "</style>\n",
       "<table border=\"1\" class=\"dataframe\">\n",
       "  <thead>\n",
       "    <tr style=\"text-align: right;\">\n",
       "      <th></th>\n",
       "      <th>Rank</th>\n",
       "      <th>Year</th>\n",
       "      <th>NA_Sales</th>\n",
       "      <th>EU_Sales</th>\n",
       "      <th>JP_Sales</th>\n",
       "      <th>Other_Sales</th>\n",
       "      <th>Global_Sales</th>\n",
       "    </tr>\n",
       "  </thead>\n",
       "  <tbody>\n",
       "    <tr>\n",
       "      <th>count</th>\n",
       "      <td>16598.000000</td>\n",
       "      <td>16327.000000</td>\n",
       "      <td>16598.000000</td>\n",
       "      <td>16598.000000</td>\n",
       "      <td>16598.000000</td>\n",
       "      <td>16598.000000</td>\n",
       "      <td>16598.000000</td>\n",
       "    </tr>\n",
       "    <tr>\n",
       "      <th>mean</th>\n",
       "      <td>8300.605254</td>\n",
       "      <td>2006.406443</td>\n",
       "      <td>0.264667</td>\n",
       "      <td>0.146652</td>\n",
       "      <td>0.077782</td>\n",
       "      <td>0.048063</td>\n",
       "      <td>0.537441</td>\n",
       "    </tr>\n",
       "    <tr>\n",
       "      <th>std</th>\n",
       "      <td>4791.853933</td>\n",
       "      <td>5.828981</td>\n",
       "      <td>0.816683</td>\n",
       "      <td>0.505351</td>\n",
       "      <td>0.309291</td>\n",
       "      <td>0.188588</td>\n",
       "      <td>1.555028</td>\n",
       "    </tr>\n",
       "    <tr>\n",
       "      <th>min</th>\n",
       "      <td>1.000000</td>\n",
       "      <td>1980.000000</td>\n",
       "      <td>0.000000</td>\n",
       "      <td>0.000000</td>\n",
       "      <td>0.000000</td>\n",
       "      <td>0.000000</td>\n",
       "      <td>0.010000</td>\n",
       "    </tr>\n",
       "    <tr>\n",
       "      <th>25%</th>\n",
       "      <td>4151.250000</td>\n",
       "      <td>2003.000000</td>\n",
       "      <td>0.000000</td>\n",
       "      <td>0.000000</td>\n",
       "      <td>0.000000</td>\n",
       "      <td>0.000000</td>\n",
       "      <td>0.060000</td>\n",
       "    </tr>\n",
       "    <tr>\n",
       "      <th>50%</th>\n",
       "      <td>8300.500000</td>\n",
       "      <td>2007.000000</td>\n",
       "      <td>0.080000</td>\n",
       "      <td>0.020000</td>\n",
       "      <td>0.000000</td>\n",
       "      <td>0.010000</td>\n",
       "      <td>0.170000</td>\n",
       "    </tr>\n",
       "    <tr>\n",
       "      <th>75%</th>\n",
       "      <td>12449.750000</td>\n",
       "      <td>2010.000000</td>\n",
       "      <td>0.240000</td>\n",
       "      <td>0.110000</td>\n",
       "      <td>0.040000</td>\n",
       "      <td>0.040000</td>\n",
       "      <td>0.470000</td>\n",
       "    </tr>\n",
       "    <tr>\n",
       "      <th>max</th>\n",
       "      <td>16600.000000</td>\n",
       "      <td>2020.000000</td>\n",
       "      <td>41.490000</td>\n",
       "      <td>29.020000</td>\n",
       "      <td>10.220000</td>\n",
       "      <td>10.570000</td>\n",
       "      <td>82.740000</td>\n",
       "    </tr>\n",
       "  </tbody>\n",
       "</table>\n",
       "</div>"
      ],
      "text/plain": [
       "               Rank          Year      NA_Sales      EU_Sales      JP_Sales  \\\n",
       "count  16598.000000  16327.000000  16598.000000  16598.000000  16598.000000   \n",
       "mean    8300.605254   2006.406443      0.264667      0.146652      0.077782   \n",
       "std     4791.853933      5.828981      0.816683      0.505351      0.309291   \n",
       "min        1.000000   1980.000000      0.000000      0.000000      0.000000   \n",
       "25%     4151.250000   2003.000000      0.000000      0.000000      0.000000   \n",
       "50%     8300.500000   2007.000000      0.080000      0.020000      0.000000   \n",
       "75%    12449.750000   2010.000000      0.240000      0.110000      0.040000   \n",
       "max    16600.000000   2020.000000     41.490000     29.020000     10.220000   \n",
       "\n",
       "        Other_Sales  Global_Sales  \n",
       "count  16598.000000  16598.000000  \n",
       "mean       0.048063      0.537441  \n",
       "std        0.188588      1.555028  \n",
       "min        0.000000      0.010000  \n",
       "25%        0.000000      0.060000  \n",
       "50%        0.010000      0.170000  \n",
       "75%        0.040000      0.470000  \n",
       "max       10.570000     82.740000  "
      ]
     },
     "execution_count": 19,
     "metadata": {},
     "output_type": "execute_result"
    }
   ],
   "source": [
    "df.describe()"
   ]
  },
  {
   "cell_type": "code",
   "execution_count": 20,
   "metadata": {},
   "outputs": [
    {
     "data": {
      "text/plain": [
       "array([[1, 'Wii Sports', 'Wii', ..., 3.77, 8.46, 82.74],\n",
       "       [2, 'Super Mario Bros.', 'NES', ..., 6.81, 0.77, 40.24],\n",
       "       [3, 'Mario Kart Wii', 'Wii', ..., 3.79, 3.31, 35.82],\n",
       "       ...,\n",
       "       [16598, 'SCORE International Baja 1000: The Official Game', 'PS2',\n",
       "        ..., 0.0, 0.0, 0.01],\n",
       "       [16599, 'Know How 2', 'DS', ..., 0.0, 0.0, 0.01],\n",
       "       [16600, 'Spirits & Spells', 'GBA', ..., 0.0, 0.0, 0.01]],\n",
       "      dtype=object)"
      ]
     },
     "execution_count": 20,
     "metadata": {},
     "output_type": "execute_result"
    }
   ],
   "source": [
    "df.values"
   ]
  },
  {
   "cell_type": "code",
   "execution_count": 23,
   "metadata": {},
   "outputs": [
    {
     "name": "stdout",
     "output_type": "stream",
     "text": [
      "['HipHop' 'Dance']\n",
      "0.5\n"
     ]
    }
   ],
   "source": [
    "# a real small machine learning project\n",
    "import pandas as pd\n",
    "\n",
    "# input data\n",
    "music_data = pd.read_csv('music.csv')\n",
    "\n",
    "# clean data\n",
    "\n",
    "# prepare data\n",
    "X = music_data.drop(columns=['genre'])\n",
    "y = music_data['genre']\n",
    "\n",
    "# train model\n",
    "from sklearn.tree import DecisionTreeClassifier\n",
    "model = DecisionTreeClassifier()\n",
    "model.fit(X, y)\n",
    "\n",
    "# make predictions\n",
    "prediction_input = pd.DataFrame([[21,1], [22, 0]], columns=X.columns)\n",
    "predictions = model.predict(prediction_input)\n",
    "print(predictions)\n",
    "\n",
    "# measure accuracy\n",
    "from sklearn.model_selection import train_test_split\n",
    "from sklearn.metrics import accuracy_score\n",
    "\n",
    "# split data into training and testing sets\n",
    "X_train, X_test, y_train, y_test = train_test_split(X, y, test_size=0.2)\n",
    "\n",
    "model.fit(X_train, y_train)\n",
    "predictions = model.predict(X_test)\n",
    "\n",
    "# compare predictions with actual values\n",
    "score = accuracy_score(y_test, predictions)\n",
    "print(score)\n",
    "\n"
   ]
  },
  {
   "cell_type": "code",
   "execution_count": 24,
   "metadata": {},
   "outputs": [
    {
     "name": "stdout",
     "output_type": "stream",
     "text": [
      "['HipHop']\n"
     ]
    }
   ],
   "source": [
    "# persisting models\n",
    "import pandas as pd\n",
    "from sklearn.tree import DecisionTreeClassifier\n",
    "import joblib\n",
    "\n",
    "music_data = pd.read_csv('music.csv')\n",
    "X = music_data.drop(columns=['genre'])\n",
    "y = music_data['genre']\n",
    "\n",
    "model = DecisionTreeClassifier()\n",
    "model.fit(X, y)\n",
    "\n",
    "# save trained model\n",
    "joblib.dump(model, 'music-recommender.joblib')\n",
    "\n",
    "# load trained model\n",
    "model2 = joblib.load('music-recommender.joblib')\n",
    "predictions = model2.predict(pd.DataFrame([[21, 1]],columns=X.columns))\n",
    "print(predictions)\n"
   ]
  },
  {
   "cell_type": "code",
   "execution_count": 10,
   "metadata": {},
   "outputs": [],
   "source": [
    "# visualizing decision trees\n",
    "import pandas as pd\n",
    "from sklearn.tree import DecisionTreeClassifier\n",
    "from sklearn import tree\n",
    "\n",
    "music_data = pd.read_csv('music.csv')\n",
    "X = music_data.drop(columns=['genre'])\n",
    "y = music_data['genre']\n",
    "\n",
    "model = DecisionTreeClassifier()\n",
    "model.fit(X, y)\n",
    "\n",
    "tree.export_graphviz(model, out_file='music-recommender.dot', feature_names=['age', 'gender'], class_names=sorted(y.unique()), label='all', rounded=True, filled=True)"
   ]
  },
  {
   "cell_type": "code",
   "execution_count": 13,
   "metadata": {},
   "outputs": [
    {
     "name": "stdout",
     "output_type": "stream",
     "text": [
      "[1, 6, 3, 4, 5, 2, 7]\n",
      "[1, 6, 3, 4, 5, 2, 7]\n"
     ]
    }
   ],
   "source": [
    "# leetcode easy 1\n",
    "from typing import List\n",
    "\n",
    "class Solution:\n",
    "    def sortEvenOdd(self, nums: List[int]) -> List[int]:\n",
    "        evenList = []\n",
    "        oddList = []\n",
    "        for i in range(0, len(nums)):\n",
    "            if i % 2 == 0:\n",
    "                evenList.append(nums[i])\n",
    "            else:\n",
    "                oddList.append(nums[i])\n",
    "        evenList.sort()\n",
    "        oddList.sort()\n",
    "        oddList.reverse()\n",
    "        returnList = []\n",
    "        for i in range(0, len(nums)):\n",
    "            if i % 2 == 0:\n",
    "                returnList.append(evenList[int(i/2)])\n",
    "            else:\n",
    "                returnList.append(oddList[int((i-1)/2)])\n",
    "        return returnList\n",
    "\n",
    "inputList = [1, 2, 3, 4, 5, 6, 7]\n",
    "solution = Solution()\n",
    "resultList = solution.sortEvenOdd(inputList)\n",
    "print(resultList)\n",
    "\n",
    "\n",
    "# best solution\n",
    "class Solution:\n",
    "    def sortEvenOdd(self, nums: List[int]) -> List[int]:\n",
    "        nums[::2], nums[1::2] = sorted(nums[::2]), sorted(nums[1::2], reverse=True)\n",
    "        return nums\n",
    "\n",
    "\n",
    "inputList = [1, 2, 3, 4, 5, 6, 7]\n",
    "solution = Solution()\n",
    "resultList = solution.sortEvenOdd(inputList)\n",
    "print(resultList)"
   ]
  },
  {
   "cell_type": "code",
   "execution_count": 4,
   "metadata": {},
   "outputs": [
    {
     "name": "stdout",
     "output_type": "stream",
     "text": [
      "1 2 3\n",
      "1 3 2\n"
     ]
    }
   ],
   "source": [
    "# leetcode easy 2\n",
    "# Definition for a binary tree node.\n",
    "from typing import Optional\n",
    "\n",
    "\n",
    "class TreeNode:\n",
    "    def __init__(self, val=0, left=None, right=None):\n",
    "        self.val = val\n",
    "        self.left = left\n",
    "        self.right = right\n",
    "\n",
    "class Solution:\n",
    "    def invertTree(self, root: Optional[TreeNode]) -> Optional[TreeNode]:\n",
    "        # Base case: if the root is None, just return None\n",
    "        if root is None:\n",
    "            return None\n",
    "        # Swap the left and right children\n",
    "        root.left, root.right = root.right, root.left\n",
    "        # Recursively call invertTree on the children\n",
    "        self.invertTree(root.left)\n",
    "        self.invertTree(root.right)\n",
    "        return root\n",
    "\n",
    "treeNode2 = TreeNode(2)\n",
    "treeNode3 = TreeNode(3)\n",
    "treeNode1 = TreeNode(1, treeNode2, treeNode3)\n",
    "print(treeNode1.val, treeNode1.left.val, treeNode1.right.val)\n",
    "Solution().invertTree(treeNode1)\n",
    "print(treeNode1.val, treeNode1.left.val, treeNode1.right.val)\n"
   ]
  },
  {
   "cell_type": "code",
   "execution_count": 27,
   "metadata": {},
   "outputs": [
    {
     "name": "stdout",
     "output_type": "stream",
     "text": [
      "[0, 4, 16, 36, 64]\n"
     ]
    }
   ],
   "source": [
    "# leetcode easy 3\n",
    "class Solution:\n",
    "    def fizzBuzz(self, n: int) -> List[str]:\n",
    "        # notice the use of for loop in list comprehension \n",
    "        # also notice the expression in list comprehension, [2,3,4][1] == 3\n",
    "        return [[str(i), 'Fizz', 'Buzz', 'FizzBuzz'][(i%3==0)+(i%5==0)*2] for i in range(1, n+1)]        \n",
    "\n",
    "# list comprehension\n",
    "even_squares = [x**2 for x in range(10) if x % 2 == 0]\n",
    "print(even_squares)\n"
   ]
  },
  {
   "cell_type": "code",
   "execution_count": 1,
   "metadata": {},
   "outputs": [
    {
     "data": {
      "text/plain": [
       "7"
      ]
     },
     "execution_count": 1,
     "metadata": {},
     "output_type": "execute_result"
    }
   ],
   "source": [
    "# leetcode easy 4\n",
    "class Solution:\n",
    "    def numberOfSteps(self, num: int) -> int:\n",
    "        if num == 0:\n",
    "            return 0\n",
    "        return num.bit_length() - 1 + num.bit_count()\n",
    "\n",
    "\n",
    "Solution().numberOfSteps(19)"
   ]
  },
  {
   "cell_type": "code",
   "execution_count": 2,
   "metadata": {},
   "outputs": [
    {
     "data": {
      "text/plain": [
       "False"
      ]
     },
     "execution_count": 2,
     "metadata": {},
     "output_type": "execute_result"
    }
   ],
   "source": [
    "# leetcode easy 5\n",
    "class Solution:\n",
    "    def canConstruct(self, ransomNote: str, magazine: str) -> bool:\n",
    "        # note that the use of set() to remove duplicates and all() to check if all elements in a list are True. Also the list comprehension\n",
    "        return all(ransomNote.count(c) <= magazine.count(c) for c in set(ransomNote))\n",
    "\n",
    "\n",
    "Solution().canConstruct(\"aab\", \"aac\")"
   ]
  },
  {
   "cell_type": "code",
   "execution_count": 6,
   "metadata": {},
   "outputs": [
    {
     "name": "stdout",
     "output_type": "stream",
     "text": [
      "fruits: [('apple', 'fruit'), ('banana', 'fruit')]\n",
      "vegetables: [('carrot', 'vegetable')]\n",
      "fruits: [('date', 'fruit')]\n"
     ]
    }
   ],
   "source": [
    "# leetcode easy 6\n",
    "from itertools import groupby\n",
    "\n",
    "class Solution:\n",
    "    def findMaxConsecutiveOnes(self, nums: List[int]) -> int:\n",
    "        return max((len(list(g)) for k, g in groupby(nums) if k == 1), default = 0)\n",
    "\n",
    "\n",
    "data = [('apple', 'fruit'), ('banana', 'fruit'), ('carrot', 'vegetable'), ('date', 'fruit')]\n",
    "grouped_data = groupby(data, key=lambda x: x[1])\n",
    "\n",
    "for key, group in grouped_data:\n",
    "    print(key + \"s:\", list(group))\n"
   ]
  },
  {
   "cell_type": "code",
   "execution_count": 11,
   "metadata": {},
   "outputs": [
    {
     "name": "stdout",
     "output_type": "stream",
     "text": [
      "[0, 1, 9, 16, 100]\n",
      "[0, 1, 9, 16, 100]\n"
     ]
    }
   ],
   "source": [
    "# leetcode easy 7\n",
    "class Solution:\n",
    "    def sortedSquares(self, nums: List[int]) -> List[int]:\n",
    "        # O(nlogn) solution\n",
    "        return sorted([x**2 for x in nums])\n",
    "\n",
    "inputList = [-4, -1, 0, 3, 10]\n",
    "solution = Solution()\n",
    "resultList = solution.sortedSquares(inputList)\n",
    "print(resultList)\n",
    "\n",
    "# efficient solution: two pointers (utilize the non-decreasing property of the input list). O(n) solution\n",
    "class Solution:\n",
    "    def sortedSquares(self, A: List[int]) -> List[int]:\n",
    "        return_array = [0] * len(A)\n",
    "        write_pointer = len(A) - 1\n",
    "        left_read_pointer = 0\n",
    "        right_read_pointer = len(A) - 1\n",
    "        left_square = A[left_read_pointer] ** 2\n",
    "        right_square = A[right_read_pointer] ** 2\n",
    "        while write_pointer >= 0:\n",
    "            if left_square > right_square:\n",
    "                return_array[write_pointer] = left_square\n",
    "                left_read_pointer += 1\n",
    "                left_square = A[left_read_pointer] ** 2\n",
    "            else:\n",
    "                return_array[write_pointer] = right_square\n",
    "                right_read_pointer -= 1\n",
    "                right_square = A[right_read_pointer] ** 2\n",
    "            write_pointer -= 1\n",
    "        return return_array\n",
    "\n",
    "inputList = [-4, -1, 0, 3, 10]\n",
    "solution = Solution()\n",
    "resultList = solution.sortedSquares(inputList)\n",
    "print(resultList)"
   ]
  },
  {
   "cell_type": "code",
   "execution_count": 2,
   "metadata": {},
   "outputs": [
    {
     "name": "stdout",
     "output_type": "stream",
     "text": [
      "[1, 0, 0, 2, 3, 0, 0, 4]\n"
     ]
    }
   ],
   "source": [
    "# leetcode easy 8\n",
    "# reverse traversal to avoid the move of elements after each insertion\n",
    "from typing import List\n",
    "class Solution:\n",
    "    def duplicateZeros(self, arr: List[int]) -> None:\n",
    "        zeroes = arr.count(0)\n",
    "        n = len(arr)\n",
    "        for i in range(n-1, -1, -1):\n",
    "            if i + zeroes < n:\n",
    "                arr[i + zeroes] = arr[i]\n",
    "            if arr[i] == 0: \n",
    "                zeroes -= 1\n",
    "                if i + zeroes < n:\n",
    "                    arr[i + zeroes] = 0\n",
    "\n",
    "\n",
    "inputList = [1,0,2,3,0,4,5,0]\n",
    "solution = Solution()\n",
    "solution.duplicateZeros(inputList)\n",
    "print(inputList)"
   ]
  },
  {
   "cell_type": "code",
   "execution_count": 4,
   "metadata": {},
   "outputs": [],
   "source": [
    "# leetcode easy 9\n",
    "class Solution:\n",
    "    def merge(self, nums1: List[int], m: int, nums2: List[int], n: int) -> None:\n",
    "        \"\"\"\n",
    "        Do not return anything, modify nums1 in-place instead.\n",
    "        \"\"\"\n",
    "        # nums1[:] can update every element in nums1, not just the reference of nums1. But this is a O((m+n)log(m+n)) solution\n",
    "        nums1[:] = sorted(nums1[0:m:1] + nums2)\n",
    "\n",
    "class Solution:\n",
    "    def merge(self, nums1: List[int], m: int, nums2: List[int], n: int) -> None:\n",
    "        \"\"\"\n",
    "        Do not return anything, modify nums1 in-place instead.\n",
    "        \"\"\"\n",
    "        # O(m+n) solution. Go from the end of the final list to the beginning.\n",
    "        p_s1 = m - 1\n",
    "        p_s2 = n - 1\n",
    "        p_final = m + n - 1\n",
    "        \n",
    "        while p_final >= 0 and p_s1 >= 0 and p_s2 >= 0:\n",
    "            \n",
    "            if nums1[p_s1] >= nums2[p_s2] and p_s1 >= 0:\n",
    "                nums1[p_final] = nums1[p_s1]\n",
    "                p_s1 -= 1\n",
    "                p_final -= 1\n",
    "            else: \n",
    "                nums1[p_final] = nums2[p_s2]\n",
    "                p_s2 -= 1\n",
    "                p_final -= 1\n",
    "        \n",
    "        if p_s1 < 0:\n",
    "            nums1[0:p_final+1] = nums2[0:p_s2+1]\n"
   ]
  },
  {
   "cell_type": "code",
   "execution_count": 5,
   "metadata": {},
   "outputs": [],
   "source": [
    "# leetcode easy 10\n",
    "from typing import List\n",
    "class Solution:\n",
    "    def removeDuplicates(self, nums: List[int]) -> int:\n",
    "        index = 1\n",
    "        currentItem = nums[0]\n",
    "        for i in range(len(nums)):\n",
    "            if currentItem != nums[i]:\n",
    "                currentItem = nums[i]\n",
    "                nums[index] = currentItem\n",
    "                index += 1\n",
    "        return index\n",
    "# actually, we don't need currentItem. Just compare nums[i] with nums[i-1] as below.\n",
    "\n",
    "class Solution:\n",
    "    def removeDuplicates(self, nums: List[int]) -> int:\n",
    "        j = 1\n",
    "        for i in range(1, len(nums)):\n",
    "            if nums[i] != nums[i - 1]:\n",
    "                nums[j] = nums[i]\n",
    "                j += 1\n",
    "        return j\n",
    "        "
   ]
  },
  {
   "cell_type": "code",
   "execution_count": 3,
   "metadata": {},
   "outputs": [],
   "source": [
    "# leetcode easy 11\n",
    "# hash table solution O(n)\n",
    "# hashset search is O(1) on average, but O(n) in the worst case\n",
    "# Theoretically, a sorted method is O(nlogn) which is faster than the hash table solution. But in practice, the hash table solution is faster.\n",
    "class Solution:\n",
    "    def checkIfExist(self, arr: List[int]) -> bool:\n",
    "        seen = set()\n",
    "        for i in arr:\n",
    "          # if 2 * i in seen or i % 2 == 0 and i // 2 in seen:\n",
    "          # // is integer division (5//2 = 2, -5//2 = -3). / is float division.\n",
    "            if 2 * i in seen or i / 2 in seen: \n",
    "                return True\n",
    "            seen.add(i)\n",
    "        return False\n"
   ]
  },
  {
   "cell_type": "code",
   "execution_count": 4,
   "metadata": {},
   "outputs": [],
   "source": [
    "# leetcode easy 12\n",
    "# mountain array test (a mountain array is an array that increases and then decreases)\n",
    "def validMountainArray(self, A):\n",
    "    i, j, n = 0, len(A) - 1, len(A)\n",
    "    while i + 1 < n and A[i] < A[i + 1]: i += 1\n",
    "    while j > 0 and A[j - 1] > A[j]: j -= 1\n",
    "    # chain comparison in python \n",
    "    return 0 < i == j < n - 1\n",
    "\n"
   ]
  },
  {
   "cell_type": "code",
   "execution_count": 6,
   "metadata": {},
   "outputs": [
    {
     "name": "stdout",
     "output_type": "stream",
     "text": [
      "[18, 6, 6, 6, 1, -1]\n"
     ]
    }
   ],
   "source": [
    "class Solution:\n",
    "    def replaceElements(self, arr: List[int]) -> List[int]:\n",
    "        currentMax = arr[-1]\n",
    "        for i in range(len(arr)-1, -1, -1):\n",
    "            tempMax = currentMax\n",
    "            if arr[i] > currentMax:\n",
    "                currentMax = arr[i]\n",
    "            arr[i] = tempMax\n",
    "        arr[-1] = -1          \n",
    "        return arr \n",
    "        \n",
    "class Solution:\n",
    "    def replaceElements(self, arr: List[int]) -> List[int]:\n",
    "        mx = -1\n",
    "        for i in range(len(arr) - 1, -1, -1):\n",
    "            # this method avoid using temp variables. Assignments are done at the same time. This is also called tuple unpacking, which first evaluates the expressions on the right-hand side of the = operator from left to right, then assigns the single resulting tuple to the left-hand side variable.\n",
    "            arr[i], mx = mx, max(mx, arr[i])\n",
    "        return arr\n",
    "\n",
    "arr = [17,18,5,4,6,1]\n",
    "res = Solution()\n",
    "arr = res.replaceElements(arr)\n",
    "print(arr)"
   ]
  },
  {
   "cell_type": "code",
   "execution_count": 7,
   "metadata": {},
   "outputs": [
    {
     "name": "stdout",
     "output_type": "stream",
     "text": [
      "[4, 2, 1, 3]\n"
     ]
    }
   ],
   "source": [
    "from typing import List\n",
    "class Solution:\n",
    "    def sortArrayByParity(self, nums: List[int]) -> List[int]:\n",
    "        oddPointer = 0\n",
    "        evenPointer = len(nums) - 1\n",
    "        while oddPointer < evenPointer:\n",
    "            while nums[oddPointer] % 2 == 0:\n",
    "                oddPointer += 1\n",
    "            while nums[evenPointer] % 2 == 1:\n",
    "                evenPointer -= 1\n",
    "            if oddPointer < evenPointer:\n",
    "                nums[oddPointer], nums[evenPointer] = nums[evenPointer], nums[oddPointer]\n",
    "                oddPointer += 1\n",
    "                evenPointer -= 1\n",
    "        return nums\n",
    "\n",
    "\n",
    "testList = [3, 1, 2, 4]\n",
    "solution = Solution()\n",
    "resultList = solution.sortArrayByParity(testList)\n",
    "print(resultList)"
   ]
  },
  {
   "cell_type": "code",
   "execution_count": 22,
   "metadata": {},
   "outputs": [
    {
     "name": "stdout",
     "output_type": "stream",
     "text": [
      "Separate name: Gaoyang Dai\n",
      "hello, Gaoyang Dai\n",
      "hello, Gaoyang Dai\n",
      "hello, Gaoyang Dai\n",
      "hello, Gaoyang Dai\n",
      "hello,???Gaoyang Dai\n"
     ]
    }
   ],
   "source": [
    "# CS50\n",
    "# Python\n",
    "name = input(\"What's your name?\\n\")\n",
    "\n",
    "# Remove whitespace from str's two ends\n",
    "name = name.strip()\n",
    "\n",
    "# Capitalize first letter of str\n",
    "name = name.capitalize()\n",
    "\n",
    "# Capitalize the first letter of all words of str\n",
    "name = name.title()\n",
    "\n",
    "# Capitalize all letters of str\n",
    "name = name.upper()\n",
    "\n",
    "name = input(\"What's your name?\\n\").strip().title()\n",
    "\n",
    "# Split str into a list of substrings separated by ' '\n",
    "first, last = name.split(\" \")\n",
    "print(f\"Separate name: {first} {last}\")\n",
    "# different ways to print\n",
    "# 1\n",
    "print(\"hello, \" + name)\n",
    "# 2\n",
    "print(\"hello,\", name)\n",
    "# 3\n",
    "print(f\"hello, {name}\")\n",
    "# 4\n",
    "print(\"hello, \", end=\"\")\n",
    "print(name)\n",
    "# 5 named parameters: sep, end\n",
    "print(\"hello,\", name, sep=\"???\")\n"
   ]
  },
  {
   "cell_type": "code",
   "execution_count": 35,
   "metadata": {},
   "outputs": [
    {
     "name": "stdout",
     "output_type": "stream",
     "text": [
      "443,436\n",
      "32578.4\n",
      "32600.0\n"
     ]
    }
   ],
   "source": [
    "# CS50\n",
    "# Python\n",
    "# Calculator\n",
    "x = int(input(\"x: \"))\n",
    "y = int(input(\"y: \"))\n",
    "z = x + y\n",
    "# add comma to separate thousands\n",
    "print(f\"{z:,}\")\n",
    "\n",
    "x = float(input(\"x: \"))\n",
    "y = float(input(\"y: \")) \n",
    "print(x + y)\n",
    "\n",
    "# round to 2 decimal places, round is \"四舍六入五成双\"\n",
    "z = round(x / y, 2)\n",
    "\n",
    "# round z to 2 decimal \n",
    "print(f\"{z:.2f}\")\n",
    "\n",
    "# round -2 means round to the nearest 100\n",
    "z = round(x + y, -2)\n",
    "\n",
    "print(z)"
   ]
  },
  {
   "cell_type": "code",
   "execution_count": 44,
   "metadata": {},
   "outputs": [
    {
     "name": "stdout",
     "output_type": "stream",
     "text": [
      "hello, gaoyang\n",
      "hello, gaoyang\n",
      "hello, world\n"
     ]
    }
   ],
   "source": [
    "# CS50\n",
    "# Python\n",
    "# Functions\n",
    "\n",
    "# Define a function\n",
    "def hello():\n",
    "    print(\"hello, \", end=\"\")\n",
    "\n",
    "name = input(\"Name: \")\n",
    "hello()\n",
    "print(name)\n",
    "\n",
    "# Define a function with a parameter\n",
    "def hello1(to):\n",
    "    print(f\"hello, {to}\")\n",
    "\n",
    "hello1(name)\n",
    "\n",
    "# Define a function with a default parameter\n",
    "def hello2(to=\"world\"):\n",
    "    print(f\"hello, {to}\")\n",
    "\n",
    "hello2()\n",
    "\n",
    "# Define a function with two parameters\n",
    "def hello3(to, greet=\"hello\"):\n",
    "    print(f\"{greet}, {to}\")\n"
   ]
  },
  {
   "cell_type": "code",
   "execution_count": null,
   "metadata": {},
   "outputs": [],
   "source": []
  }
 ],
 "metadata": {
  "kernelspec": {
   "display_name": "Python 3 (ipykernel)",
   "language": "python",
   "name": "python3"
  },
  "language_info": {
   "codemirror_mode": {
    "name": "ipython",
    "version": 3
   },
   "file_extension": ".py",
   "mimetype": "text/x-python",
   "name": "python",
   "nbconvert_exporter": "python",
   "pygments_lexer": "ipython3",
   "version": "3.10.12"
  },
  "vscode": {
   "interpreter": {
    "hash": "e10d78180d15c51bc9310edcef3ce065428833b280891a811be2323416981e6d"
   }
  }
 },
 "nbformat": 4,
 "nbformat_minor": 2
}
